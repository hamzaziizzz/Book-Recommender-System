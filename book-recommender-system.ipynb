{
 "cells": [
  {
   "cell_type": "code",
   "execution_count": 113,
   "id": "9d6b16f3",
   "metadata": {},
   "outputs": [],
   "source": [
    "import numpy as np\n",
    "import pandas as pd"
   ]
  },
  {
   "cell_type": "code",
   "execution_count": 114,
   "id": "8ce3f3c9",
   "metadata": {},
   "outputs": [
    {
     "name": "stderr",
     "output_type": "stream",
     "text": [
      "C:\\Users\\hamza\\AppData\\Local\\Temp\\ipykernel_1908\\3432935531.py:1: DtypeWarning: Columns (3) have mixed types. Specify dtype option on import or set low_memory=False.\n",
      "  books = pd.read_csv(\"DATASET/Books.csv\")\n"
     ]
    }
   ],
   "source": [
    "books = pd.read_csv(\"DATASET/Books.csv\")\n",
    "users = pd.read_csv(\"DATASET/Users.csv\")\n",
    "ratings = pd.read_csv(\"DATASET/Ratings.csv\")"
   ]
  },
  {
   "cell_type": "code",
   "execution_count": 115,
   "id": "d513fd34",
   "metadata": {},
   "outputs": [
    {
     "data": {
      "text/plain": "         ISBN                                         Book-Title  \\\n0  0195153448                                Classical Mythology   \n1  0002005018                                       Clara Callan   \n2  0060973129                               Decision in Normandy   \n3  0374157065  Flu: The Story of the Great Influenza Pandemic...   \n4  0393045218                             The Mummies of Urumchi   \n\n            Book-Author Year-Of-Publication                   Publisher  \\\n0    Mark P. O. Morford                2002     Oxford University Press   \n1  Richard Bruce Wright                2001       HarperFlamingo Canada   \n2          Carlo D'Este                1991             HarperPerennial   \n3      Gina Bari Kolata                1999        Farrar Straus Giroux   \n4       E. J. W. Barber                1999  W. W. Norton &amp; Company   \n\n                                         Image-URL-S  \\\n0  http://images.amazon.com/images/P/0195153448.0...   \n1  http://images.amazon.com/images/P/0002005018.0...   \n2  http://images.amazon.com/images/P/0060973129.0...   \n3  http://images.amazon.com/images/P/0374157065.0...   \n4  http://images.amazon.com/images/P/0393045218.0...   \n\n                                         Image-URL-M  \\\n0  http://images.amazon.com/images/P/0195153448.0...   \n1  http://images.amazon.com/images/P/0002005018.0...   \n2  http://images.amazon.com/images/P/0060973129.0...   \n3  http://images.amazon.com/images/P/0374157065.0...   \n4  http://images.amazon.com/images/P/0393045218.0...   \n\n                                         Image-URL-L  \n0  http://images.amazon.com/images/P/0195153448.0...  \n1  http://images.amazon.com/images/P/0002005018.0...  \n2  http://images.amazon.com/images/P/0060973129.0...  \n3  http://images.amazon.com/images/P/0374157065.0...  \n4  http://images.amazon.com/images/P/0393045218.0...  ",
      "text/html": "<div>\n<style scoped>\n    .dataframe tbody tr th:only-of-type {\n        vertical-align: middle;\n    }\n\n    .dataframe tbody tr th {\n        vertical-align: top;\n    }\n\n    .dataframe thead th {\n        text-align: right;\n    }\n</style>\n<table border=\"1\" class=\"dataframe\">\n  <thead>\n    <tr style=\"text-align: right;\">\n      <th></th>\n      <th>ISBN</th>\n      <th>Book-Title</th>\n      <th>Book-Author</th>\n      <th>Year-Of-Publication</th>\n      <th>Publisher</th>\n      <th>Image-URL-S</th>\n      <th>Image-URL-M</th>\n      <th>Image-URL-L</th>\n    </tr>\n  </thead>\n  <tbody>\n    <tr>\n      <th>0</th>\n      <td>0195153448</td>\n      <td>Classical Mythology</td>\n      <td>Mark P. O. Morford</td>\n      <td>2002</td>\n      <td>Oxford University Press</td>\n      <td>http://images.amazon.com/images/P/0195153448.0...</td>\n      <td>http://images.amazon.com/images/P/0195153448.0...</td>\n      <td>http://images.amazon.com/images/P/0195153448.0...</td>\n    </tr>\n    <tr>\n      <th>1</th>\n      <td>0002005018</td>\n      <td>Clara Callan</td>\n      <td>Richard Bruce Wright</td>\n      <td>2001</td>\n      <td>HarperFlamingo Canada</td>\n      <td>http://images.amazon.com/images/P/0002005018.0...</td>\n      <td>http://images.amazon.com/images/P/0002005018.0...</td>\n      <td>http://images.amazon.com/images/P/0002005018.0...</td>\n    </tr>\n    <tr>\n      <th>2</th>\n      <td>0060973129</td>\n      <td>Decision in Normandy</td>\n      <td>Carlo D'Este</td>\n      <td>1991</td>\n      <td>HarperPerennial</td>\n      <td>http://images.amazon.com/images/P/0060973129.0...</td>\n      <td>http://images.amazon.com/images/P/0060973129.0...</td>\n      <td>http://images.amazon.com/images/P/0060973129.0...</td>\n    </tr>\n    <tr>\n      <th>3</th>\n      <td>0374157065</td>\n      <td>Flu: The Story of the Great Influenza Pandemic...</td>\n      <td>Gina Bari Kolata</td>\n      <td>1999</td>\n      <td>Farrar Straus Giroux</td>\n      <td>http://images.amazon.com/images/P/0374157065.0...</td>\n      <td>http://images.amazon.com/images/P/0374157065.0...</td>\n      <td>http://images.amazon.com/images/P/0374157065.0...</td>\n    </tr>\n    <tr>\n      <th>4</th>\n      <td>0393045218</td>\n      <td>The Mummies of Urumchi</td>\n      <td>E. J. W. Barber</td>\n      <td>1999</td>\n      <td>W. W. Norton &amp;amp; Company</td>\n      <td>http://images.amazon.com/images/P/0393045218.0...</td>\n      <td>http://images.amazon.com/images/P/0393045218.0...</td>\n      <td>http://images.amazon.com/images/P/0393045218.0...</td>\n    </tr>\n  </tbody>\n</table>\n</div>"
     },
     "execution_count": 115,
     "metadata": {},
     "output_type": "execute_result"
    }
   ],
   "source": [
    "books.head()"
   ]
  },
  {
   "cell_type": "code",
   "execution_count": 116,
   "id": "789f6217",
   "metadata": {},
   "outputs": [
    {
     "data": {
      "text/plain": "              ISBN      Book-Title      Book-Author  Year-Of-Publication  \\\ncount       271360          271360           271359               271360   \nunique      271360          242135           102023                  202   \ntop     0195153448  Selected Poems  Agatha Christie                 2002   \nfreq             1              27              632                13903   \n\n        Publisher                                        Image-URL-S  \\\ncount      271358                                             271360   \nunique      16807                                             271044   \ntop     Harlequin  http://images.amazon.com/images/P/185326119X.0...   \nfreq         7535                                                  2   \n\n                                              Image-URL-M  \\\ncount                                              271360   \nunique                                             271044   \ntop     http://images.amazon.com/images/P/185326119X.0...   \nfreq                                                    2   \n\n                                              Image-URL-L  \ncount                                              271357  \nunique                                             271041  \ntop     http://images.amazon.com/images/P/225307649X.0...  \nfreq                                                    2  ",
      "text/html": "<div>\n<style scoped>\n    .dataframe tbody tr th:only-of-type {\n        vertical-align: middle;\n    }\n\n    .dataframe tbody tr th {\n        vertical-align: top;\n    }\n\n    .dataframe thead th {\n        text-align: right;\n    }\n</style>\n<table border=\"1\" class=\"dataframe\">\n  <thead>\n    <tr style=\"text-align: right;\">\n      <th></th>\n      <th>ISBN</th>\n      <th>Book-Title</th>\n      <th>Book-Author</th>\n      <th>Year-Of-Publication</th>\n      <th>Publisher</th>\n      <th>Image-URL-S</th>\n      <th>Image-URL-M</th>\n      <th>Image-URL-L</th>\n    </tr>\n  </thead>\n  <tbody>\n    <tr>\n      <th>count</th>\n      <td>271360</td>\n      <td>271360</td>\n      <td>271359</td>\n      <td>271360</td>\n      <td>271358</td>\n      <td>271360</td>\n      <td>271360</td>\n      <td>271357</td>\n    </tr>\n    <tr>\n      <th>unique</th>\n      <td>271360</td>\n      <td>242135</td>\n      <td>102023</td>\n      <td>202</td>\n      <td>16807</td>\n      <td>271044</td>\n      <td>271044</td>\n      <td>271041</td>\n    </tr>\n    <tr>\n      <th>top</th>\n      <td>0195153448</td>\n      <td>Selected Poems</td>\n      <td>Agatha Christie</td>\n      <td>2002</td>\n      <td>Harlequin</td>\n      <td>http://images.amazon.com/images/P/185326119X.0...</td>\n      <td>http://images.amazon.com/images/P/185326119X.0...</td>\n      <td>http://images.amazon.com/images/P/225307649X.0...</td>\n    </tr>\n    <tr>\n      <th>freq</th>\n      <td>1</td>\n      <td>27</td>\n      <td>632</td>\n      <td>13903</td>\n      <td>7535</td>\n      <td>2</td>\n      <td>2</td>\n      <td>2</td>\n    </tr>\n  </tbody>\n</table>\n</div>"
     },
     "execution_count": 116,
     "metadata": {},
     "output_type": "execute_result"
    }
   ],
   "source": [
    "books.describe()"
   ]
  },
  {
   "cell_type": "code",
   "execution_count": 117,
   "id": "5a6a09c5",
   "metadata": {},
   "outputs": [
    {
     "name": "stdout",
     "output_type": "stream",
     "text": [
      "<class 'pandas.core.frame.DataFrame'>\n",
      "RangeIndex: 271360 entries, 0 to 271359\n",
      "Data columns (total 8 columns):\n",
      " #   Column               Non-Null Count   Dtype \n",
      "---  ------               --------------   ----- \n",
      " 0   ISBN                 271360 non-null  object\n",
      " 1   Book-Title           271360 non-null  object\n",
      " 2   Book-Author          271359 non-null  object\n",
      " 3   Year-Of-Publication  271360 non-null  object\n",
      " 4   Publisher            271358 non-null  object\n",
      " 5   Image-URL-S          271360 non-null  object\n",
      " 6   Image-URL-M          271360 non-null  object\n",
      " 7   Image-URL-L          271357 non-null  object\n",
      "dtypes: object(8)\n",
      "memory usage: 16.6+ MB\n"
     ]
    }
   ],
   "source": [
    "books.info()"
   ]
  },
  {
   "cell_type": "code",
   "execution_count": 118,
   "id": "1c9bc585",
   "metadata": {},
   "outputs": [
    {
     "data": {
      "text/plain": "   User-ID                            Location   Age\n0        1                  nyc, new york, usa   NaN\n1        2           stockton, california, usa  18.0\n2        3     moscow, yukon territory, russia   NaN\n3        4           porto, v.n.gaia, portugal  17.0\n4        5  farnborough, hants, united kingdom   NaN",
      "text/html": "<div>\n<style scoped>\n    .dataframe tbody tr th:only-of-type {\n        vertical-align: middle;\n    }\n\n    .dataframe tbody tr th {\n        vertical-align: top;\n    }\n\n    .dataframe thead th {\n        text-align: right;\n    }\n</style>\n<table border=\"1\" class=\"dataframe\">\n  <thead>\n    <tr style=\"text-align: right;\">\n      <th></th>\n      <th>User-ID</th>\n      <th>Location</th>\n      <th>Age</th>\n    </tr>\n  </thead>\n  <tbody>\n    <tr>\n      <th>0</th>\n      <td>1</td>\n      <td>nyc, new york, usa</td>\n      <td>NaN</td>\n    </tr>\n    <tr>\n      <th>1</th>\n      <td>2</td>\n      <td>stockton, california, usa</td>\n      <td>18.0</td>\n    </tr>\n    <tr>\n      <th>2</th>\n      <td>3</td>\n      <td>moscow, yukon territory, russia</td>\n      <td>NaN</td>\n    </tr>\n    <tr>\n      <th>3</th>\n      <td>4</td>\n      <td>porto, v.n.gaia, portugal</td>\n      <td>17.0</td>\n    </tr>\n    <tr>\n      <th>4</th>\n      <td>5</td>\n      <td>farnborough, hants, united kingdom</td>\n      <td>NaN</td>\n    </tr>\n  </tbody>\n</table>\n</div>"
     },
     "execution_count": 118,
     "metadata": {},
     "output_type": "execute_result"
    }
   ],
   "source": [
    "users.head()"
   ]
  },
  {
   "cell_type": "code",
   "execution_count": 119,
   "id": "8812d268",
   "metadata": {},
   "outputs": [
    {
     "data": {
      "text/plain": "            User-ID            Age\ncount  278858.00000  168096.000000\nmean   139429.50000      34.751434\nstd     80499.51502      14.428097\nmin         1.00000       0.000000\n25%     69715.25000      24.000000\n50%    139429.50000      32.000000\n75%    209143.75000      44.000000\nmax    278858.00000     244.000000",
      "text/html": "<div>\n<style scoped>\n    .dataframe tbody tr th:only-of-type {\n        vertical-align: middle;\n    }\n\n    .dataframe tbody tr th {\n        vertical-align: top;\n    }\n\n    .dataframe thead th {\n        text-align: right;\n    }\n</style>\n<table border=\"1\" class=\"dataframe\">\n  <thead>\n    <tr style=\"text-align: right;\">\n      <th></th>\n      <th>User-ID</th>\n      <th>Age</th>\n    </tr>\n  </thead>\n  <tbody>\n    <tr>\n      <th>count</th>\n      <td>278858.00000</td>\n      <td>168096.000000</td>\n    </tr>\n    <tr>\n      <th>mean</th>\n      <td>139429.50000</td>\n      <td>34.751434</td>\n    </tr>\n    <tr>\n      <th>std</th>\n      <td>80499.51502</td>\n      <td>14.428097</td>\n    </tr>\n    <tr>\n      <th>min</th>\n      <td>1.00000</td>\n      <td>0.000000</td>\n    </tr>\n    <tr>\n      <th>25%</th>\n      <td>69715.25000</td>\n      <td>24.000000</td>\n    </tr>\n    <tr>\n      <th>50%</th>\n      <td>139429.50000</td>\n      <td>32.000000</td>\n    </tr>\n    <tr>\n      <th>75%</th>\n      <td>209143.75000</td>\n      <td>44.000000</td>\n    </tr>\n    <tr>\n      <th>max</th>\n      <td>278858.00000</td>\n      <td>244.000000</td>\n    </tr>\n  </tbody>\n</table>\n</div>"
     },
     "execution_count": 119,
     "metadata": {},
     "output_type": "execute_result"
    }
   ],
   "source": [
    "users.describe()"
   ]
  },
  {
   "cell_type": "code",
   "execution_count": 120,
   "id": "0c1a2960",
   "metadata": {},
   "outputs": [
    {
     "name": "stdout",
     "output_type": "stream",
     "text": [
      "<class 'pandas.core.frame.DataFrame'>\n",
      "RangeIndex: 278858 entries, 0 to 278857\n",
      "Data columns (total 3 columns):\n",
      " #   Column    Non-Null Count   Dtype  \n",
      "---  ------    --------------   -----  \n",
      " 0   User-ID   278858 non-null  int64  \n",
      " 1   Location  278858 non-null  object \n",
      " 2   Age       168096 non-null  float64\n",
      "dtypes: float64(1), int64(1), object(1)\n",
      "memory usage: 6.4+ MB\n"
     ]
    }
   ],
   "source": [
    "users.info()"
   ]
  },
  {
   "cell_type": "code",
   "execution_count": 121,
   "id": "0ffdcb8a",
   "metadata": {},
   "outputs": [
    {
     "data": {
      "text/plain": "   User-ID        ISBN  Book-Rating\n0   276725  034545104X            0\n1   276726  0155061224            5\n2   276727  0446520802            0\n3   276729  052165615X            3\n4   276729  0521795028            6",
      "text/html": "<div>\n<style scoped>\n    .dataframe tbody tr th:only-of-type {\n        vertical-align: middle;\n    }\n\n    .dataframe tbody tr th {\n        vertical-align: top;\n    }\n\n    .dataframe thead th {\n        text-align: right;\n    }\n</style>\n<table border=\"1\" class=\"dataframe\">\n  <thead>\n    <tr style=\"text-align: right;\">\n      <th></th>\n      <th>User-ID</th>\n      <th>ISBN</th>\n      <th>Book-Rating</th>\n    </tr>\n  </thead>\n  <tbody>\n    <tr>\n      <th>0</th>\n      <td>276725</td>\n      <td>034545104X</td>\n      <td>0</td>\n    </tr>\n    <tr>\n      <th>1</th>\n      <td>276726</td>\n      <td>0155061224</td>\n      <td>5</td>\n    </tr>\n    <tr>\n      <th>2</th>\n      <td>276727</td>\n      <td>0446520802</td>\n      <td>0</td>\n    </tr>\n    <tr>\n      <th>3</th>\n      <td>276729</td>\n      <td>052165615X</td>\n      <td>3</td>\n    </tr>\n    <tr>\n      <th>4</th>\n      <td>276729</td>\n      <td>0521795028</td>\n      <td>6</td>\n    </tr>\n  </tbody>\n</table>\n</div>"
     },
     "execution_count": 121,
     "metadata": {},
     "output_type": "execute_result"
    }
   ],
   "source": [
    "ratings.head()"
   ]
  },
  {
   "cell_type": "code",
   "execution_count": 122,
   "id": "126c79de",
   "metadata": {},
   "outputs": [
    {
     "data": {
      "text/plain": "            User-ID   Book-Rating\ncount  1.149780e+06  1.149780e+06\nmean   1.403864e+05  2.866950e+00\nstd    8.056228e+04  3.854184e+00\nmin    2.000000e+00  0.000000e+00\n25%    7.034500e+04  0.000000e+00\n50%    1.410100e+05  0.000000e+00\n75%    2.110280e+05  7.000000e+00\nmax    2.788540e+05  1.000000e+01",
      "text/html": "<div>\n<style scoped>\n    .dataframe tbody tr th:only-of-type {\n        vertical-align: middle;\n    }\n\n    .dataframe tbody tr th {\n        vertical-align: top;\n    }\n\n    .dataframe thead th {\n        text-align: right;\n    }\n</style>\n<table border=\"1\" class=\"dataframe\">\n  <thead>\n    <tr style=\"text-align: right;\">\n      <th></th>\n      <th>User-ID</th>\n      <th>Book-Rating</th>\n    </tr>\n  </thead>\n  <tbody>\n    <tr>\n      <th>count</th>\n      <td>1.149780e+06</td>\n      <td>1.149780e+06</td>\n    </tr>\n    <tr>\n      <th>mean</th>\n      <td>1.403864e+05</td>\n      <td>2.866950e+00</td>\n    </tr>\n    <tr>\n      <th>std</th>\n      <td>8.056228e+04</td>\n      <td>3.854184e+00</td>\n    </tr>\n    <tr>\n      <th>min</th>\n      <td>2.000000e+00</td>\n      <td>0.000000e+00</td>\n    </tr>\n    <tr>\n      <th>25%</th>\n      <td>7.034500e+04</td>\n      <td>0.000000e+00</td>\n    </tr>\n    <tr>\n      <th>50%</th>\n      <td>1.410100e+05</td>\n      <td>0.000000e+00</td>\n    </tr>\n    <tr>\n      <th>75%</th>\n      <td>2.110280e+05</td>\n      <td>7.000000e+00</td>\n    </tr>\n    <tr>\n      <th>max</th>\n      <td>2.788540e+05</td>\n      <td>1.000000e+01</td>\n    </tr>\n  </tbody>\n</table>\n</div>"
     },
     "execution_count": 122,
     "metadata": {},
     "output_type": "execute_result"
    }
   ],
   "source": [
    "ratings.describe()"
   ]
  },
  {
   "cell_type": "code",
   "execution_count": 123,
   "id": "2138da9d",
   "metadata": {},
   "outputs": [
    {
     "name": "stdout",
     "output_type": "stream",
     "text": [
      "<class 'pandas.core.frame.DataFrame'>\n",
      "RangeIndex: 1149780 entries, 0 to 1149779\n",
      "Data columns (total 3 columns):\n",
      " #   Column       Non-Null Count    Dtype \n",
      "---  ------       --------------    ----- \n",
      " 0   User-ID      1149780 non-null  int64 \n",
      " 1   ISBN         1149780 non-null  object\n",
      " 2   Book-Rating  1149780 non-null  int64 \n",
      "dtypes: int64(2), object(1)\n",
      "memory usage: 26.3+ MB\n"
     ]
    }
   ],
   "source": [
    "ratings.info()"
   ]
  },
  {
   "cell_type": "code",
   "execution_count": 124,
   "id": "8020420d",
   "metadata": {},
   "outputs": [
    {
     "data": {
      "text/plain": "(271360, 8)"
     },
     "execution_count": 124,
     "metadata": {},
     "output_type": "execute_result"
    }
   ],
   "source": [
    "books.shape"
   ]
  },
  {
   "cell_type": "code",
   "execution_count": 125,
   "id": "957b4247",
   "metadata": {},
   "outputs": [
    {
     "data": {
      "text/plain": "(278858, 3)"
     },
     "execution_count": 125,
     "metadata": {},
     "output_type": "execute_result"
    }
   ],
   "source": [
    "users.shape"
   ]
  },
  {
   "cell_type": "code",
   "execution_count": 126,
   "id": "f0e83537",
   "metadata": {},
   "outputs": [
    {
     "data": {
      "text/plain": "(1149780, 3)"
     },
     "execution_count": 126,
     "metadata": {},
     "output_type": "execute_result"
    }
   ],
   "source": [
    "ratings.shape"
   ]
  },
  {
   "cell_type": "code",
   "execution_count": 127,
   "id": "1e2aea2f",
   "metadata": {},
   "outputs": [
    {
     "data": {
      "text/plain": "ISBN                   0\nBook-Title             0\nBook-Author            1\nYear-Of-Publication    0\nPublisher              2\nImage-URL-S            0\nImage-URL-M            0\nImage-URL-L            3\ndtype: int64"
     },
     "execution_count": 127,
     "metadata": {},
     "output_type": "execute_result"
    }
   ],
   "source": [
    "books.isnull().sum()"
   ]
  },
  {
   "cell_type": "code",
   "execution_count": 128,
   "id": "4cbf8717",
   "metadata": {},
   "outputs": [
    {
     "data": {
      "text/plain": "User-ID          0\nLocation         0\nAge         110762\ndtype: int64"
     },
     "execution_count": 128,
     "metadata": {},
     "output_type": "execute_result"
    }
   ],
   "source": [
    "users.isnull().sum()"
   ]
  },
  {
   "cell_type": "code",
   "execution_count": 129,
   "id": "3c280e4e",
   "metadata": {},
   "outputs": [
    {
     "data": {
      "text/plain": "User-ID        0\nISBN           0\nBook-Rating    0\ndtype: int64"
     },
     "execution_count": 129,
     "metadata": {},
     "output_type": "execute_result"
    }
   ],
   "source": [
    "ratings.isnull().sum()"
   ]
  },
  {
   "cell_type": "code",
   "execution_count": 130,
   "id": "6ce8ee24",
   "metadata": {},
   "outputs": [
    {
     "data": {
      "text/plain": "0"
     },
     "execution_count": 130,
     "metadata": {},
     "output_type": "execute_result"
    }
   ],
   "source": [
    "books.duplicated().sum()"
   ]
  },
  {
   "cell_type": "code",
   "execution_count": 131,
   "id": "ddf15ad1",
   "metadata": {},
   "outputs": [
    {
     "data": {
      "text/plain": "0"
     },
     "execution_count": 131,
     "metadata": {},
     "output_type": "execute_result"
    }
   ],
   "source": [
    "users.duplicated().sum()"
   ]
  },
  {
   "cell_type": "code",
   "execution_count": 132,
   "id": "6f36964b",
   "metadata": {},
   "outputs": [
    {
     "data": {
      "text/plain": "0"
     },
     "execution_count": 132,
     "metadata": {},
     "output_type": "execute_result"
    }
   ],
   "source": [
    "ratings.duplicated().sum()"
   ]
  },
  {
   "cell_type": "markdown",
   "id": "9799bf38",
   "metadata": {},
   "source": [
    "## Popularity Based Recommender System"
   ]
  },
  {
   "cell_type": "code",
   "execution_count": 133,
   "id": "37cac09b",
   "metadata": {},
   "outputs": [],
   "source": [
    "ratings_with_name = ratings.merge(books, on=\"ISBN\")"
   ]
  },
  {
   "cell_type": "code",
   "execution_count": 134,
   "id": "cb00a4a3",
   "metadata": {},
   "outputs": [
    {
     "data": {
      "text/plain": "         User-ID        ISBN  Book-Rating  \\\n0         276725  034545104X            0   \n1           2313  034545104X            5   \n2           6543  034545104X            0   \n3           8680  034545104X            5   \n4          10314  034545104X            9   \n...          ...         ...          ...   \n1031131   276688  0517145553            0   \n1031132   276688  1575660792            7   \n1031133   276690  0590907301            0   \n1031134   276704  0679752714            0   \n1031135   276704  0806917695            5   \n\n                                                Book-Title      Book-Author  \\\n0                                     Flesh Tones: A Novel       M. J. Rose   \n1                                     Flesh Tones: A Novel       M. J. Rose   \n2                                     Flesh Tones: A Novel       M. J. Rose   \n3                                     Flesh Tones: A Novel       M. J. Rose   \n4                                     Flesh Tones: A Novel       M. J. Rose   \n...                                                    ...              ...   \n1031131                                    Mostly Harmless    Douglas Adams   \n1031132                                        Gray Matter  Shirley Kennett   \n1031133  Triplet Trouble and the Class Trip (Triplet Tr...     Debbie Dadey   \n1031134  A Desert of Pure Feeling (Vintage Contemporaries)   Judith Freeman   \n1031135  Perplexing Lateral Thinking Puzzles: Scholasti...      Paul Sloane   \n\n        Year-Of-Publication                          Publisher  \\\n0                      2002                   Ballantine Books   \n1                      2002                   Ballantine Books   \n2                      2002                   Ballantine Books   \n3                      2002                   Ballantine Books   \n4                      2002                   Ballantine Books   \n...                     ...                                ...   \n1031131                1995             Random House Value Pub   \n1031132                1996  Kensington Publishing Corporation   \n1031133                1997                              Apple   \n1031134                1997                  Vintage Books USA   \n1031135                1997                Sterling Publishing   \n\n                                               Image-URL-S  \\\n0        http://images.amazon.com/images/P/034545104X.0...   \n1        http://images.amazon.com/images/P/034545104X.0...   \n2        http://images.amazon.com/images/P/034545104X.0...   \n3        http://images.amazon.com/images/P/034545104X.0...   \n4        http://images.amazon.com/images/P/034545104X.0...   \n...                                                    ...   \n1031131  http://images.amazon.com/images/P/0517145553.0...   \n1031132  http://images.amazon.com/images/P/1575660792.0...   \n1031133  http://images.amazon.com/images/P/0590907301.0...   \n1031134  http://images.amazon.com/images/P/0679752714.0...   \n1031135  http://images.amazon.com/images/P/0806917695.0...   \n\n                                               Image-URL-M  \\\n0        http://images.amazon.com/images/P/034545104X.0...   \n1        http://images.amazon.com/images/P/034545104X.0...   \n2        http://images.amazon.com/images/P/034545104X.0...   \n3        http://images.amazon.com/images/P/034545104X.0...   \n4        http://images.amazon.com/images/P/034545104X.0...   \n...                                                    ...   \n1031131  http://images.amazon.com/images/P/0517145553.0...   \n1031132  http://images.amazon.com/images/P/1575660792.0...   \n1031133  http://images.amazon.com/images/P/0590907301.0...   \n1031134  http://images.amazon.com/images/P/0679752714.0...   \n1031135  http://images.amazon.com/images/P/0806917695.0...   \n\n                                               Image-URL-L  \n0        http://images.amazon.com/images/P/034545104X.0...  \n1        http://images.amazon.com/images/P/034545104X.0...  \n2        http://images.amazon.com/images/P/034545104X.0...  \n3        http://images.amazon.com/images/P/034545104X.0...  \n4        http://images.amazon.com/images/P/034545104X.0...  \n...                                                    ...  \n1031131  http://images.amazon.com/images/P/0517145553.0...  \n1031132  http://images.amazon.com/images/P/1575660792.0...  \n1031133  http://images.amazon.com/images/P/0590907301.0...  \n1031134  http://images.amazon.com/images/P/0679752714.0...  \n1031135  http://images.amazon.com/images/P/0806917695.0...  \n\n[1031136 rows x 10 columns]",
      "text/html": "<div>\n<style scoped>\n    .dataframe tbody tr th:only-of-type {\n        vertical-align: middle;\n    }\n\n    .dataframe tbody tr th {\n        vertical-align: top;\n    }\n\n    .dataframe thead th {\n        text-align: right;\n    }\n</style>\n<table border=\"1\" class=\"dataframe\">\n  <thead>\n    <tr style=\"text-align: right;\">\n      <th></th>\n      <th>User-ID</th>\n      <th>ISBN</th>\n      <th>Book-Rating</th>\n      <th>Book-Title</th>\n      <th>Book-Author</th>\n      <th>Year-Of-Publication</th>\n      <th>Publisher</th>\n      <th>Image-URL-S</th>\n      <th>Image-URL-M</th>\n      <th>Image-URL-L</th>\n    </tr>\n  </thead>\n  <tbody>\n    <tr>\n      <th>0</th>\n      <td>276725</td>\n      <td>034545104X</td>\n      <td>0</td>\n      <td>Flesh Tones: A Novel</td>\n      <td>M. J. Rose</td>\n      <td>2002</td>\n      <td>Ballantine Books</td>\n      <td>http://images.amazon.com/images/P/034545104X.0...</td>\n      <td>http://images.amazon.com/images/P/034545104X.0...</td>\n      <td>http://images.amazon.com/images/P/034545104X.0...</td>\n    </tr>\n    <tr>\n      <th>1</th>\n      <td>2313</td>\n      <td>034545104X</td>\n      <td>5</td>\n      <td>Flesh Tones: A Novel</td>\n      <td>M. J. Rose</td>\n      <td>2002</td>\n      <td>Ballantine Books</td>\n      <td>http://images.amazon.com/images/P/034545104X.0...</td>\n      <td>http://images.amazon.com/images/P/034545104X.0...</td>\n      <td>http://images.amazon.com/images/P/034545104X.0...</td>\n    </tr>\n    <tr>\n      <th>2</th>\n      <td>6543</td>\n      <td>034545104X</td>\n      <td>0</td>\n      <td>Flesh Tones: A Novel</td>\n      <td>M. J. Rose</td>\n      <td>2002</td>\n      <td>Ballantine Books</td>\n      <td>http://images.amazon.com/images/P/034545104X.0...</td>\n      <td>http://images.amazon.com/images/P/034545104X.0...</td>\n      <td>http://images.amazon.com/images/P/034545104X.0...</td>\n    </tr>\n    <tr>\n      <th>3</th>\n      <td>8680</td>\n      <td>034545104X</td>\n      <td>5</td>\n      <td>Flesh Tones: A Novel</td>\n      <td>M. J. Rose</td>\n      <td>2002</td>\n      <td>Ballantine Books</td>\n      <td>http://images.amazon.com/images/P/034545104X.0...</td>\n      <td>http://images.amazon.com/images/P/034545104X.0...</td>\n      <td>http://images.amazon.com/images/P/034545104X.0...</td>\n    </tr>\n    <tr>\n      <th>4</th>\n      <td>10314</td>\n      <td>034545104X</td>\n      <td>9</td>\n      <td>Flesh Tones: A Novel</td>\n      <td>M. J. Rose</td>\n      <td>2002</td>\n      <td>Ballantine Books</td>\n      <td>http://images.amazon.com/images/P/034545104X.0...</td>\n      <td>http://images.amazon.com/images/P/034545104X.0...</td>\n      <td>http://images.amazon.com/images/P/034545104X.0...</td>\n    </tr>\n    <tr>\n      <th>...</th>\n      <td>...</td>\n      <td>...</td>\n      <td>...</td>\n      <td>...</td>\n      <td>...</td>\n      <td>...</td>\n      <td>...</td>\n      <td>...</td>\n      <td>...</td>\n      <td>...</td>\n    </tr>\n    <tr>\n      <th>1031131</th>\n      <td>276688</td>\n      <td>0517145553</td>\n      <td>0</td>\n      <td>Mostly Harmless</td>\n      <td>Douglas Adams</td>\n      <td>1995</td>\n      <td>Random House Value Pub</td>\n      <td>http://images.amazon.com/images/P/0517145553.0...</td>\n      <td>http://images.amazon.com/images/P/0517145553.0...</td>\n      <td>http://images.amazon.com/images/P/0517145553.0...</td>\n    </tr>\n    <tr>\n      <th>1031132</th>\n      <td>276688</td>\n      <td>1575660792</td>\n      <td>7</td>\n      <td>Gray Matter</td>\n      <td>Shirley Kennett</td>\n      <td>1996</td>\n      <td>Kensington Publishing Corporation</td>\n      <td>http://images.amazon.com/images/P/1575660792.0...</td>\n      <td>http://images.amazon.com/images/P/1575660792.0...</td>\n      <td>http://images.amazon.com/images/P/1575660792.0...</td>\n    </tr>\n    <tr>\n      <th>1031133</th>\n      <td>276690</td>\n      <td>0590907301</td>\n      <td>0</td>\n      <td>Triplet Trouble and the Class Trip (Triplet Tr...</td>\n      <td>Debbie Dadey</td>\n      <td>1997</td>\n      <td>Apple</td>\n      <td>http://images.amazon.com/images/P/0590907301.0...</td>\n      <td>http://images.amazon.com/images/P/0590907301.0...</td>\n      <td>http://images.amazon.com/images/P/0590907301.0...</td>\n    </tr>\n    <tr>\n      <th>1031134</th>\n      <td>276704</td>\n      <td>0679752714</td>\n      <td>0</td>\n      <td>A Desert of Pure Feeling (Vintage Contemporaries)</td>\n      <td>Judith Freeman</td>\n      <td>1997</td>\n      <td>Vintage Books USA</td>\n      <td>http://images.amazon.com/images/P/0679752714.0...</td>\n      <td>http://images.amazon.com/images/P/0679752714.0...</td>\n      <td>http://images.amazon.com/images/P/0679752714.0...</td>\n    </tr>\n    <tr>\n      <th>1031135</th>\n      <td>276704</td>\n      <td>0806917695</td>\n      <td>5</td>\n      <td>Perplexing Lateral Thinking Puzzles: Scholasti...</td>\n      <td>Paul Sloane</td>\n      <td>1997</td>\n      <td>Sterling Publishing</td>\n      <td>http://images.amazon.com/images/P/0806917695.0...</td>\n      <td>http://images.amazon.com/images/P/0806917695.0...</td>\n      <td>http://images.amazon.com/images/P/0806917695.0...</td>\n    </tr>\n  </tbody>\n</table>\n<p>1031136 rows × 10 columns</p>\n</div>"
     },
     "execution_count": 134,
     "metadata": {},
     "output_type": "execute_result"
    }
   ],
   "source": [
    "ratings_with_name"
   ]
  },
  {
   "cell_type": "code",
   "execution_count": 135,
   "id": "5ca1dd53",
   "metadata": {},
   "outputs": [
    {
     "data": {
      "text/plain": "(1031136, 10)"
     },
     "execution_count": 135,
     "metadata": {},
     "output_type": "execute_result"
    }
   ],
   "source": [
    "ratings_with_name.shape"
   ]
  },
  {
   "cell_type": "code",
   "execution_count": 136,
   "id": "f94caedd",
   "metadata": {},
   "outputs": [
    {
     "data": {
      "text/plain": "                                                    User-ID  ISBN  \\\nBook-Title                                                          \n A Light in the Storm: The Civil War Diary of A...        4     4   \n Always Have Popsicles                                    1     1   \n Apple Magic (The Collector's series)                     1     1   \n Ask Lily (Young Women of Faith: Lily Series, B...        1     1   \n Beyond IBM: Leadership Marketing and Finance f...        1     1   \n...                                                     ...   ...   \nÃ?Â?lpiraten.                                             2     2   \nÃ?Â?rger mit Produkt X. Roman.                            4     4   \nÃ?Â?sterlich leben.                                       1     1   \nÃ?Â?stlich der Berge.                                     3     3   \nÃ?Â?thique en toc                                         2     2   \n\n                                                    Book-Rating  Book-Author  \\\nBook-Title                                                                     \n A Light in the Storm: The Civil War Diary of A...            4            4   \n Always Have Popsicles                                        1            1   \n Apple Magic (The Collector's series)                         1            1   \n Ask Lily (Young Women of Faith: Lily Series, B...            1            1   \n Beyond IBM: Leadership Marketing and Finance f...            1            1   \n...                                                         ...          ...   \nÃ?Â?lpiraten.                                                 2            2   \nÃ?Â?rger mit Produkt X. Roman.                                4            4   \nÃ?Â?sterlich leben.                                           1            1   \nÃ?Â?stlich der Berge.                                         3            3   \nÃ?Â?thique en toc                                             2            2   \n\n                                                    Year-Of-Publication  \\\nBook-Title                                                                \n A Light in the Storm: The Civil War Diary of A...                    4   \n Always Have Popsicles                                                1   \n Apple Magic (The Collector's series)                                 1   \n Ask Lily (Young Women of Faith: Lily Series, B...                    1   \n Beyond IBM: Leadership Marketing and Finance f...                    1   \n...                                                                 ...   \nÃ?Â?lpiraten.                                                         2   \nÃ?Â?rger mit Produkt X. Roman.                                        4   \nÃ?Â?sterlich leben.                                                   1   \nÃ?Â?stlich der Berge.                                                 3   \nÃ?Â?thique en toc                                                     2   \n\n                                                    Publisher  Image-URL-S  \\\nBook-Title                                                                   \n A Light in the Storm: The Civil War Diary of A...          4            4   \n Always Have Popsicles                                      1            1   \n Apple Magic (The Collector's series)                       1            1   \n Ask Lily (Young Women of Faith: Lily Series, B...          1            1   \n Beyond IBM: Leadership Marketing and Finance f...          1            1   \n...                                                       ...          ...   \nÃ?Â?lpiraten.                                               2            2   \nÃ?Â?rger mit Produkt X. Roman.                              4            4   \nÃ?Â?sterlich leben.                                         1            1   \nÃ?Â?stlich der Berge.                                       3            3   \nÃ?Â?thique en toc                                           2            2   \n\n                                                    Image-URL-M  Image-URL-L  \nBook-Title                                                                    \n A Light in the Storm: The Civil War Diary of A...            4            4  \n Always Have Popsicles                                        1            1  \n Apple Magic (The Collector's series)                         1            1  \n Ask Lily (Young Women of Faith: Lily Series, B...            1            1  \n Beyond IBM: Leadership Marketing and Finance f...            1            1  \n...                                                         ...          ...  \nÃ?Â?lpiraten.                                                 2            2  \nÃ?Â?rger mit Produkt X. Roman.                                4            4  \nÃ?Â?sterlich leben.                                           1            1  \nÃ?Â?stlich der Berge.                                         3            3  \nÃ?Â?thique en toc                                             2            2  \n\n[241071 rows x 9 columns]",
      "text/html": "<div>\n<style scoped>\n    .dataframe tbody tr th:only-of-type {\n        vertical-align: middle;\n    }\n\n    .dataframe tbody tr th {\n        vertical-align: top;\n    }\n\n    .dataframe thead th {\n        text-align: right;\n    }\n</style>\n<table border=\"1\" class=\"dataframe\">\n  <thead>\n    <tr style=\"text-align: right;\">\n      <th></th>\n      <th>User-ID</th>\n      <th>ISBN</th>\n      <th>Book-Rating</th>\n      <th>Book-Author</th>\n      <th>Year-Of-Publication</th>\n      <th>Publisher</th>\n      <th>Image-URL-S</th>\n      <th>Image-URL-M</th>\n      <th>Image-URL-L</th>\n    </tr>\n    <tr>\n      <th>Book-Title</th>\n      <th></th>\n      <th></th>\n      <th></th>\n      <th></th>\n      <th></th>\n      <th></th>\n      <th></th>\n      <th></th>\n      <th></th>\n    </tr>\n  </thead>\n  <tbody>\n    <tr>\n      <th>A Light in the Storm: The Civil War Diary of Amelia Martin, Fenwick Island, Delaware, 1861 (Dear America)</th>\n      <td>4</td>\n      <td>4</td>\n      <td>4</td>\n      <td>4</td>\n      <td>4</td>\n      <td>4</td>\n      <td>4</td>\n      <td>4</td>\n      <td>4</td>\n    </tr>\n    <tr>\n      <th>Always Have Popsicles</th>\n      <td>1</td>\n      <td>1</td>\n      <td>1</td>\n      <td>1</td>\n      <td>1</td>\n      <td>1</td>\n      <td>1</td>\n      <td>1</td>\n      <td>1</td>\n    </tr>\n    <tr>\n      <th>Apple Magic (The Collector's series)</th>\n      <td>1</td>\n      <td>1</td>\n      <td>1</td>\n      <td>1</td>\n      <td>1</td>\n      <td>1</td>\n      <td>1</td>\n      <td>1</td>\n      <td>1</td>\n    </tr>\n    <tr>\n      <th>Ask Lily (Young Women of Faith: Lily Series, Book 5)</th>\n      <td>1</td>\n      <td>1</td>\n      <td>1</td>\n      <td>1</td>\n      <td>1</td>\n      <td>1</td>\n      <td>1</td>\n      <td>1</td>\n      <td>1</td>\n    </tr>\n    <tr>\n      <th>Beyond IBM: Leadership Marketing and Finance for the 1990s</th>\n      <td>1</td>\n      <td>1</td>\n      <td>1</td>\n      <td>1</td>\n      <td>1</td>\n      <td>1</td>\n      <td>1</td>\n      <td>1</td>\n      <td>1</td>\n    </tr>\n    <tr>\n      <th>...</th>\n      <td>...</td>\n      <td>...</td>\n      <td>...</td>\n      <td>...</td>\n      <td>...</td>\n      <td>...</td>\n      <td>...</td>\n      <td>...</td>\n      <td>...</td>\n    </tr>\n    <tr>\n      <th>Ã?Â?lpiraten.</th>\n      <td>2</td>\n      <td>2</td>\n      <td>2</td>\n      <td>2</td>\n      <td>2</td>\n      <td>2</td>\n      <td>2</td>\n      <td>2</td>\n      <td>2</td>\n    </tr>\n    <tr>\n      <th>Ã?Â?rger mit Produkt X. Roman.</th>\n      <td>4</td>\n      <td>4</td>\n      <td>4</td>\n      <td>4</td>\n      <td>4</td>\n      <td>4</td>\n      <td>4</td>\n      <td>4</td>\n      <td>4</td>\n    </tr>\n    <tr>\n      <th>Ã?Â?sterlich leben.</th>\n      <td>1</td>\n      <td>1</td>\n      <td>1</td>\n      <td>1</td>\n      <td>1</td>\n      <td>1</td>\n      <td>1</td>\n      <td>1</td>\n      <td>1</td>\n    </tr>\n    <tr>\n      <th>Ã?Â?stlich der Berge.</th>\n      <td>3</td>\n      <td>3</td>\n      <td>3</td>\n      <td>3</td>\n      <td>3</td>\n      <td>3</td>\n      <td>3</td>\n      <td>3</td>\n      <td>3</td>\n    </tr>\n    <tr>\n      <th>Ã?Â?thique en toc</th>\n      <td>2</td>\n      <td>2</td>\n      <td>2</td>\n      <td>2</td>\n      <td>2</td>\n      <td>2</td>\n      <td>2</td>\n      <td>2</td>\n      <td>2</td>\n    </tr>\n  </tbody>\n</table>\n<p>241071 rows × 9 columns</p>\n</div>"
     },
     "execution_count": 136,
     "metadata": {},
     "output_type": "execute_result"
    }
   ],
   "source": [
    "ratings_with_name.groupby(\"Book-Title\").count()"
   ]
  },
  {
   "cell_type": "code",
   "execution_count": 137,
   "id": "e1a41841",
   "metadata": {},
   "outputs": [],
   "source": [
    "num_rating_df = ratings_with_name.groupby(\"Book-Title\").count()['Book-Rating'].reset_index()"
   ]
  },
  {
   "cell_type": "code",
   "execution_count": 138,
   "id": "9f5ef5df",
   "metadata": {},
   "outputs": [],
   "source": [
    "num_rating_df.rename(columns={'Book-Rating': 'num_ratings'}, inplace=True)"
   ]
  },
  {
   "cell_type": "code",
   "execution_count": 139,
   "id": "c3d92575",
   "metadata": {},
   "outputs": [
    {
     "name": "stderr",
     "output_type": "stream",
     "text": [
      "C:\\Users\\hamza\\AppData\\Local\\Temp\\ipykernel_1908\\760255301.py:1: FutureWarning: The default value of numeric_only in DataFrameGroupBy.mean is deprecated. In a future version, numeric_only will default to False. Either specify numeric_only or select only columns which should be valid for the function.\n",
      "  avg_rating_df = ratings_with_name.groupby('Book-Title').mean()['Book-Rating'].reset_index()\n"
     ]
    },
    {
     "data": {
      "text/plain": "                                               Book-Title  avg_rating\n0        A Light in the Storm: The Civil War Diary of ...    2.250000\n1                                   Always Have Popsicles    0.000000\n2                    Apple Magic (The Collector's series)    0.000000\n3        Ask Lily (Young Women of Faith: Lily Series, ...    8.000000\n4        Beyond IBM: Leadership Marketing and Finance ...    0.000000\n...                                                   ...         ...\n241066                                      Ã?Â?lpiraten.    0.000000\n241067                     Ã?Â?rger mit Produkt X. Roman.    5.250000\n241068                                Ã?Â?sterlich leben.    7.000000\n241069                              Ã?Â?stlich der Berge.    2.666667\n241070                                  Ã?Â?thique en toc    4.000000\n\n[241071 rows x 2 columns]",
      "text/html": "<div>\n<style scoped>\n    .dataframe tbody tr th:only-of-type {\n        vertical-align: middle;\n    }\n\n    .dataframe tbody tr th {\n        vertical-align: top;\n    }\n\n    .dataframe thead th {\n        text-align: right;\n    }\n</style>\n<table border=\"1\" class=\"dataframe\">\n  <thead>\n    <tr style=\"text-align: right;\">\n      <th></th>\n      <th>Book-Title</th>\n      <th>avg_rating</th>\n    </tr>\n  </thead>\n  <tbody>\n    <tr>\n      <th>0</th>\n      <td>A Light in the Storm: The Civil War Diary of ...</td>\n      <td>2.250000</td>\n    </tr>\n    <tr>\n      <th>1</th>\n      <td>Always Have Popsicles</td>\n      <td>0.000000</td>\n    </tr>\n    <tr>\n      <th>2</th>\n      <td>Apple Magic (The Collector's series)</td>\n      <td>0.000000</td>\n    </tr>\n    <tr>\n      <th>3</th>\n      <td>Ask Lily (Young Women of Faith: Lily Series, ...</td>\n      <td>8.000000</td>\n    </tr>\n    <tr>\n      <th>4</th>\n      <td>Beyond IBM: Leadership Marketing and Finance ...</td>\n      <td>0.000000</td>\n    </tr>\n    <tr>\n      <th>...</th>\n      <td>...</td>\n      <td>...</td>\n    </tr>\n    <tr>\n      <th>241066</th>\n      <td>Ã?Â?lpiraten.</td>\n      <td>0.000000</td>\n    </tr>\n    <tr>\n      <th>241067</th>\n      <td>Ã?Â?rger mit Produkt X. Roman.</td>\n      <td>5.250000</td>\n    </tr>\n    <tr>\n      <th>241068</th>\n      <td>Ã?Â?sterlich leben.</td>\n      <td>7.000000</td>\n    </tr>\n    <tr>\n      <th>241069</th>\n      <td>Ã?Â?stlich der Berge.</td>\n      <td>2.666667</td>\n    </tr>\n    <tr>\n      <th>241070</th>\n      <td>Ã?Â?thique en toc</td>\n      <td>4.000000</td>\n    </tr>\n  </tbody>\n</table>\n<p>241071 rows × 2 columns</p>\n</div>"
     },
     "execution_count": 139,
     "metadata": {},
     "output_type": "execute_result"
    }
   ],
   "source": [
    "avg_rating_df = ratings_with_name.groupby('Book-Title').mean()['Book-Rating'].reset_index()\n",
    "avg_rating_df.rename(columns={'Book-Rating':'avg_rating'}, inplace=True)\n",
    "avg_rating_df"
   ]
  },
  {
   "cell_type": "code",
   "execution_count": 140,
   "id": "95d1f92f",
   "metadata": {},
   "outputs": [],
   "source": [
    "popularity_df = num_rating_df.merge(avg_rating_df, on='Book-Title')"
   ]
  },
  {
   "cell_type": "code",
   "execution_count": 141,
   "id": "09eac057",
   "metadata": {},
   "outputs": [
    {
     "data": {
      "text/plain": "                                               Book-Title  num_ratings  \\\n0        A Light in the Storm: The Civil War Diary of ...            4   \n1                                   Always Have Popsicles            1   \n2                    Apple Magic (The Collector's series)            1   \n3        Ask Lily (Young Women of Faith: Lily Series, ...            1   \n4        Beyond IBM: Leadership Marketing and Finance ...            1   \n...                                                   ...          ...   \n241066                                      Ã?Â?lpiraten.            2   \n241067                     Ã?Â?rger mit Produkt X. Roman.            4   \n241068                                Ã?Â?sterlich leben.            1   \n241069                              Ã?Â?stlich der Berge.            3   \n241070                                  Ã?Â?thique en toc            2   \n\n        avg_rating  \n0         2.250000  \n1         0.000000  \n2         0.000000  \n3         8.000000  \n4         0.000000  \n...            ...  \n241066    0.000000  \n241067    5.250000  \n241068    7.000000  \n241069    2.666667  \n241070    4.000000  \n\n[241071 rows x 3 columns]",
      "text/html": "<div>\n<style scoped>\n    .dataframe tbody tr th:only-of-type {\n        vertical-align: middle;\n    }\n\n    .dataframe tbody tr th {\n        vertical-align: top;\n    }\n\n    .dataframe thead th {\n        text-align: right;\n    }\n</style>\n<table border=\"1\" class=\"dataframe\">\n  <thead>\n    <tr style=\"text-align: right;\">\n      <th></th>\n      <th>Book-Title</th>\n      <th>num_ratings</th>\n      <th>avg_rating</th>\n    </tr>\n  </thead>\n  <tbody>\n    <tr>\n      <th>0</th>\n      <td>A Light in the Storm: The Civil War Diary of ...</td>\n      <td>4</td>\n      <td>2.250000</td>\n    </tr>\n    <tr>\n      <th>1</th>\n      <td>Always Have Popsicles</td>\n      <td>1</td>\n      <td>0.000000</td>\n    </tr>\n    <tr>\n      <th>2</th>\n      <td>Apple Magic (The Collector's series)</td>\n      <td>1</td>\n      <td>0.000000</td>\n    </tr>\n    <tr>\n      <th>3</th>\n      <td>Ask Lily (Young Women of Faith: Lily Series, ...</td>\n      <td>1</td>\n      <td>8.000000</td>\n    </tr>\n    <tr>\n      <th>4</th>\n      <td>Beyond IBM: Leadership Marketing and Finance ...</td>\n      <td>1</td>\n      <td>0.000000</td>\n    </tr>\n    <tr>\n      <th>...</th>\n      <td>...</td>\n      <td>...</td>\n      <td>...</td>\n    </tr>\n    <tr>\n      <th>241066</th>\n      <td>Ã?Â?lpiraten.</td>\n      <td>2</td>\n      <td>0.000000</td>\n    </tr>\n    <tr>\n      <th>241067</th>\n      <td>Ã?Â?rger mit Produkt X. Roman.</td>\n      <td>4</td>\n      <td>5.250000</td>\n    </tr>\n    <tr>\n      <th>241068</th>\n      <td>Ã?Â?sterlich leben.</td>\n      <td>1</td>\n      <td>7.000000</td>\n    </tr>\n    <tr>\n      <th>241069</th>\n      <td>Ã?Â?stlich der Berge.</td>\n      <td>3</td>\n      <td>2.666667</td>\n    </tr>\n    <tr>\n      <th>241070</th>\n      <td>Ã?Â?thique en toc</td>\n      <td>2</td>\n      <td>4.000000</td>\n    </tr>\n  </tbody>\n</table>\n<p>241071 rows × 3 columns</p>\n</div>"
     },
     "execution_count": 141,
     "metadata": {},
     "output_type": "execute_result"
    }
   ],
   "source": [
    "popularity_df"
   ]
  },
  {
   "cell_type": "code",
   "execution_count": 142,
   "id": "6905ed96",
   "metadata": {},
   "outputs": [],
   "source": [
    "popularity_df = popularity_df[popularity_df['num_ratings'] >= 250].sort_values('avg_rating', ascending=False).head(50)"
   ]
  },
  {
   "cell_type": "code",
   "execution_count": 143,
   "id": "5cb107e4",
   "metadata": {},
   "outputs": [],
   "source": [
    "popularity_df = popularity_df.merge(books, on='Book-Title').drop_duplicates('Book-Title')[['Book-Title', 'Book-Author', 'Image-URL-M', 'num_ratings', 'avg_rating']]"
   ]
  },
  {
   "cell_type": "code",
   "execution_count": 144,
   "id": "a6f071e5",
   "metadata": {},
   "outputs": [
    {
     "data": {
      "text/plain": "                                            Book-Title  \\\n0    Harry Potter and the Prisoner of Azkaban (Book 3)   \n3         Harry Potter and the Goblet of Fire (Book 4)   \n5       Harry Potter and the Sorcerer's Stone (Book 1)   \n9    Harry Potter and the Order of the Phoenix (Boo...   \n13    Harry Potter and the Chamber of Secrets (Book 2)   \n16   The Hobbit : The Enchanting Prelude to The Lor...   \n17   The Fellowship of the Ring (The Lord of the Ri...   \n26   Harry Potter and the Sorcerer's Stone (Harry P...   \n28      The Two Towers (The Lord of the Rings, Part 2)   \n39                               To Kill a Mockingbird   \n47                                   The Da Vinci Code   \n53                  The Five People You Meet in Heaven   \n55                              The Catcher in the Rye   \n62                           The Lovely Bones: A Novel   \n63                                                1984   \n72                            Prodigal Summer: A Novel   \n73                                          Neverwhere   \n78                             The Secret Life of Bees   \n84   Stupid White Men ...and Other Sorry Excuses fo...   \n85   Tuesdays with Morrie: An Old Man, a Young Man,...   \n88                 The Red Tent (Bestselling Backlist)   \n89                The Hitchhiker's Guide to the Galaxy   \n98    Nickel and Dimed: On (Not) Getting By in America   \n100                                      Into the Wild   \n103                                     Fahrenheit 451   \n116                          Girl with a Pearl Earring   \n117                                          Outlander   \n123  Where the Heart Is (Oprah's Book Club (Paperba...   \n124                     Seabiscuit: An American Legend   \n126                                         Life of Pi   \n130                                     The Bean Trees   \n133  A Child Called \\It\\\": One Child's Courage to S...   \n135                                     ANGELA'S ASHES   \n137                                        Good in Bed   \n139  Fast Food Nation: The Dark Side of the All-Ame...   \n140                                      American Gods   \n141                                 Skipping Christmas   \n147  Left Behind: A Novel of the Earth's Last Days ...   \n149    The Golden Compass (His Dark Materials, Book 1)   \n157                                   The Color Purple   \n163                               Silence of the Lambs   \n166                                        About a Boy   \n173                  Seven Up (A Stephanie Plum Novel)   \n175  The Alchemist: A Fable About Following Your Dream   \n177  Hard Eight : A Stephanie Plum Novel (A Stephan...   \n182                       Suzanne's Diary for Nicholas   \n186                                  Lord of the Flies   \n192                            A Prayer for Owen Meany   \n194   The Vampire Lestat (Vampire Chronicles, Book II)   \n195       White Oleander : A Novel (Oprah's Book Club)   \n\n                Book-Author  \\\n0             J. K. Rowling   \n3             J. K. Rowling   \n5             J. K. Rowling   \n9             J. K. Rowling   \n13            J. K. Rowling   \n16           J.R.R. TOLKIEN   \n17           J.R.R. TOLKIEN   \n26            J. K. Rowling   \n28           J.R.R. TOLKIEN   \n39               Harper Lee   \n47                Dan Brown   \n53              Mitch Albom   \n55            J.D. Salinger   \n62             Alice Sebold   \n63            George Orwell   \n72       Barbara Kingsolver   \n73              Neil Gaiman   \n78            Sue Monk Kidd   \n84            Michael Moore   \n85              MITCH ALBOM   \n88            Anita Diamant   \n89            Douglas Adams   \n98       Barbara Ehrenreich   \n100            Jon Krakauer   \n103            Ray Bradbury   \n116         Tracy Chevalier   \n117          DIANA GABALDON   \n123            Billie Letts   \n124       LAURA HILLENBRAND   \n126             Yann Martel   \n130      Barbara Kingsolver   \n133             Dave Pelzer   \n135           Frank McCourt   \n137         Jennifer Weiner   \n139          Eric Schlosser   \n140             Neil Gaiman   \n141            JOHN GRISHAM   \n147              Tim Lahaye   \n149          PHILIP PULLMAN   \n157            Alice Walker   \n163           Thomas Harris   \n166             Nick Hornby   \n173         Janet Evanovich   \n175            Paulo Coelho   \n177         Janet Evanovich   \n182         James Patterson   \n186  William Gerald Golding   \n192             John Irving   \n194               ANNE RICE   \n195             Janet Fitch   \n\n                                           Image-URL-M  num_ratings  \\\n0    http://images.amazon.com/images/P/0439136350.0...          428   \n3    http://images.amazon.com/images/P/0439139597.0...          387   \n5    http://images.amazon.com/images/P/0590353403.0...          278   \n9    http://images.amazon.com/images/P/043935806X.0...          347   \n13   http://images.amazon.com/images/P/0439064872.0...          556   \n16   http://images.amazon.com/images/P/0345339681.0...          281   \n17   http://images.amazon.com/images/P/0345339703.0...          368   \n26   http://images.amazon.com/images/P/059035342X.0...          575   \n28   http://images.amazon.com/images/P/0345339711.0...          260   \n39   http://images.amazon.com/images/P/0446310786.0...          510   \n47   http://images.amazon.com/images/P/0385504209.0...          898   \n53   http://images.amazon.com/images/P/0786868716.0...          430   \n55   http://images.amazon.com/images/P/0316769487.0...          449   \n62   http://images.amazon.com/images/P/0316666343.0...         1295   \n63   http://images.amazon.com/images/P/0451524934.0...          284   \n72   http://images.amazon.com/images/P/0060959037.0...          253   \n73   http://images.amazon.com/images/P/0380789019.0...          265   \n78   http://images.amazon.com/images/P/0142001740.0...          774   \n84   http://images.amazon.com/images/P/0060392452.0...          283   \n85   http://images.amazon.com/images/P/0385484518.0...          493   \n88   http://images.amazon.com/images/P/0312195516.0...          723   \n89   http://images.amazon.com/images/P/0671461494.0...          268   \n98   http://images.amazon.com/images/P/0805063897.0...          335   \n100  http://images.amazon.com/images/P/0385486804.0...          252   \n103  http://images.amazon.com/images/P/3257208626.0...          409   \n116  http://images.amazon.com/images/P/0452282152.0...          526   \n117  http://images.amazon.com/images/P/0440222915.0...          283   \n123  http://images.amazon.com/images/P/0446672211.0...          585   \n124  http://images.amazon.com/images/P/0449005615.0...          275   \n126  http://images.amazon.com/images/P/0151008116.0...          664   \n130  http://images.amazon.com/images/P/0060915544.0...          389   \n133  http://images.amazon.com/images/P/1558743669.0...          265   \n135  http://images.amazon.com/images/P/0684874350.0...          279   \n137  http://images.amazon.com/images/P/0743418174.0...          490   \n139  http://images.amazon.com/images/P/0060938455.0...          321   \n140  http://images.amazon.com/images/P/0380789035.0...          302   \n141  http://images.amazon.com/images/P/0385505833.0...          322   \n147  http://images.amazon.com/images/P/0842329129.0...          318   \n149  http://images.amazon.com/images/P/037582345X.0...          336   \n157  http://images.amazon.com/images/P/0671617028.0...          314   \n163  http://images.amazon.com/images/P/0312924585.0...          256   \n166  http://images.amazon.com/images/P/1573227331.0...          262   \n173  http://images.amazon.com/images/P/0312265840.0...          278   \n175  http://images.amazon.com/images/P/0062502174.0...          266   \n177  http://images.amazon.com/images/P/0312983867.0...          269   \n182  http://images.amazon.com/images/P/0316969443.0...          457   \n186  http://images.amazon.com/images/P/0399501487.0...          259   \n192  http://images.amazon.com/images/P/0345361792.0...          413   \n194  http://images.amazon.com/images/P/0345313860.0...          301   \n195  http://images.amazon.com/images/P/0316284955.0...          356   \n\n     avg_rating  \n0      5.852804  \n3      5.824289  \n5      5.737410  \n9      5.501441  \n13     5.183453  \n16     5.007117  \n17     4.948370  \n26     4.895652  \n28     4.880769  \n39     4.700000  \n47     4.642539  \n53     4.551163  \n55     4.545657  \n62     4.468726  \n63     4.454225  \n72     4.450593  \n73     4.449057  \n78     4.447028  \n84     4.356890  \n85     4.354970  \n88     4.334716  \n89     4.328358  \n98     4.289552  \n100    4.273810  \n103    4.264059  \n116    4.218631  \n117    4.173145  \n123    4.105983  \n124    4.098182  \n126    4.088855  \n130    4.087404  \n133    4.086792  \n135    4.075269  \n137    4.055102  \n139    4.037383  \n140    4.006623  \n141    4.006211  \n147    4.003145  \n149    4.000000  \n157    3.964968  \n163    3.960938  \n166    3.900763  \n173    3.888489  \n175    3.875940  \n177    3.825279  \n182    3.820569  \n186    3.818533  \n192    3.796610  \n194    3.777409  \n195    3.772472  ",
      "text/html": "<div>\n<style scoped>\n    .dataframe tbody tr th:only-of-type {\n        vertical-align: middle;\n    }\n\n    .dataframe tbody tr th {\n        vertical-align: top;\n    }\n\n    .dataframe thead th {\n        text-align: right;\n    }\n</style>\n<table border=\"1\" class=\"dataframe\">\n  <thead>\n    <tr style=\"text-align: right;\">\n      <th></th>\n      <th>Book-Title</th>\n      <th>Book-Author</th>\n      <th>Image-URL-M</th>\n      <th>num_ratings</th>\n      <th>avg_rating</th>\n    </tr>\n  </thead>\n  <tbody>\n    <tr>\n      <th>0</th>\n      <td>Harry Potter and the Prisoner of Azkaban (Book 3)</td>\n      <td>J. K. Rowling</td>\n      <td>http://images.amazon.com/images/P/0439136350.0...</td>\n      <td>428</td>\n      <td>5.852804</td>\n    </tr>\n    <tr>\n      <th>3</th>\n      <td>Harry Potter and the Goblet of Fire (Book 4)</td>\n      <td>J. K. Rowling</td>\n      <td>http://images.amazon.com/images/P/0439139597.0...</td>\n      <td>387</td>\n      <td>5.824289</td>\n    </tr>\n    <tr>\n      <th>5</th>\n      <td>Harry Potter and the Sorcerer's Stone (Book 1)</td>\n      <td>J. K. Rowling</td>\n      <td>http://images.amazon.com/images/P/0590353403.0...</td>\n      <td>278</td>\n      <td>5.737410</td>\n    </tr>\n    <tr>\n      <th>9</th>\n      <td>Harry Potter and the Order of the Phoenix (Boo...</td>\n      <td>J. K. Rowling</td>\n      <td>http://images.amazon.com/images/P/043935806X.0...</td>\n      <td>347</td>\n      <td>5.501441</td>\n    </tr>\n    <tr>\n      <th>13</th>\n      <td>Harry Potter and the Chamber of Secrets (Book 2)</td>\n      <td>J. K. Rowling</td>\n      <td>http://images.amazon.com/images/P/0439064872.0...</td>\n      <td>556</td>\n      <td>5.183453</td>\n    </tr>\n    <tr>\n      <th>16</th>\n      <td>The Hobbit : The Enchanting Prelude to The Lor...</td>\n      <td>J.R.R. TOLKIEN</td>\n      <td>http://images.amazon.com/images/P/0345339681.0...</td>\n      <td>281</td>\n      <td>5.007117</td>\n    </tr>\n    <tr>\n      <th>17</th>\n      <td>The Fellowship of the Ring (The Lord of the Ri...</td>\n      <td>J.R.R. TOLKIEN</td>\n      <td>http://images.amazon.com/images/P/0345339703.0...</td>\n      <td>368</td>\n      <td>4.948370</td>\n    </tr>\n    <tr>\n      <th>26</th>\n      <td>Harry Potter and the Sorcerer's Stone (Harry P...</td>\n      <td>J. K. Rowling</td>\n      <td>http://images.amazon.com/images/P/059035342X.0...</td>\n      <td>575</td>\n      <td>4.895652</td>\n    </tr>\n    <tr>\n      <th>28</th>\n      <td>The Two Towers (The Lord of the Rings, Part 2)</td>\n      <td>J.R.R. TOLKIEN</td>\n      <td>http://images.amazon.com/images/P/0345339711.0...</td>\n      <td>260</td>\n      <td>4.880769</td>\n    </tr>\n    <tr>\n      <th>39</th>\n      <td>To Kill a Mockingbird</td>\n      <td>Harper Lee</td>\n      <td>http://images.amazon.com/images/P/0446310786.0...</td>\n      <td>510</td>\n      <td>4.700000</td>\n    </tr>\n    <tr>\n      <th>47</th>\n      <td>The Da Vinci Code</td>\n      <td>Dan Brown</td>\n      <td>http://images.amazon.com/images/P/0385504209.0...</td>\n      <td>898</td>\n      <td>4.642539</td>\n    </tr>\n    <tr>\n      <th>53</th>\n      <td>The Five People You Meet in Heaven</td>\n      <td>Mitch Albom</td>\n      <td>http://images.amazon.com/images/P/0786868716.0...</td>\n      <td>430</td>\n      <td>4.551163</td>\n    </tr>\n    <tr>\n      <th>55</th>\n      <td>The Catcher in the Rye</td>\n      <td>J.D. Salinger</td>\n      <td>http://images.amazon.com/images/P/0316769487.0...</td>\n      <td>449</td>\n      <td>4.545657</td>\n    </tr>\n    <tr>\n      <th>62</th>\n      <td>The Lovely Bones: A Novel</td>\n      <td>Alice Sebold</td>\n      <td>http://images.amazon.com/images/P/0316666343.0...</td>\n      <td>1295</td>\n      <td>4.468726</td>\n    </tr>\n    <tr>\n      <th>63</th>\n      <td>1984</td>\n      <td>George Orwell</td>\n      <td>http://images.amazon.com/images/P/0451524934.0...</td>\n      <td>284</td>\n      <td>4.454225</td>\n    </tr>\n    <tr>\n      <th>72</th>\n      <td>Prodigal Summer: A Novel</td>\n      <td>Barbara Kingsolver</td>\n      <td>http://images.amazon.com/images/P/0060959037.0...</td>\n      <td>253</td>\n      <td>4.450593</td>\n    </tr>\n    <tr>\n      <th>73</th>\n      <td>Neverwhere</td>\n      <td>Neil Gaiman</td>\n      <td>http://images.amazon.com/images/P/0380789019.0...</td>\n      <td>265</td>\n      <td>4.449057</td>\n    </tr>\n    <tr>\n      <th>78</th>\n      <td>The Secret Life of Bees</td>\n      <td>Sue Monk Kidd</td>\n      <td>http://images.amazon.com/images/P/0142001740.0...</td>\n      <td>774</td>\n      <td>4.447028</td>\n    </tr>\n    <tr>\n      <th>84</th>\n      <td>Stupid White Men ...and Other Sorry Excuses fo...</td>\n      <td>Michael Moore</td>\n      <td>http://images.amazon.com/images/P/0060392452.0...</td>\n      <td>283</td>\n      <td>4.356890</td>\n    </tr>\n    <tr>\n      <th>85</th>\n      <td>Tuesdays with Morrie: An Old Man, a Young Man,...</td>\n      <td>MITCH ALBOM</td>\n      <td>http://images.amazon.com/images/P/0385484518.0...</td>\n      <td>493</td>\n      <td>4.354970</td>\n    </tr>\n    <tr>\n      <th>88</th>\n      <td>The Red Tent (Bestselling Backlist)</td>\n      <td>Anita Diamant</td>\n      <td>http://images.amazon.com/images/P/0312195516.0...</td>\n      <td>723</td>\n      <td>4.334716</td>\n    </tr>\n    <tr>\n      <th>89</th>\n      <td>The Hitchhiker's Guide to the Galaxy</td>\n      <td>Douglas Adams</td>\n      <td>http://images.amazon.com/images/P/0671461494.0...</td>\n      <td>268</td>\n      <td>4.328358</td>\n    </tr>\n    <tr>\n      <th>98</th>\n      <td>Nickel and Dimed: On (Not) Getting By in America</td>\n      <td>Barbara Ehrenreich</td>\n      <td>http://images.amazon.com/images/P/0805063897.0...</td>\n      <td>335</td>\n      <td>4.289552</td>\n    </tr>\n    <tr>\n      <th>100</th>\n      <td>Into the Wild</td>\n      <td>Jon Krakauer</td>\n      <td>http://images.amazon.com/images/P/0385486804.0...</td>\n      <td>252</td>\n      <td>4.273810</td>\n    </tr>\n    <tr>\n      <th>103</th>\n      <td>Fahrenheit 451</td>\n      <td>Ray Bradbury</td>\n      <td>http://images.amazon.com/images/P/3257208626.0...</td>\n      <td>409</td>\n      <td>4.264059</td>\n    </tr>\n    <tr>\n      <th>116</th>\n      <td>Girl with a Pearl Earring</td>\n      <td>Tracy Chevalier</td>\n      <td>http://images.amazon.com/images/P/0452282152.0...</td>\n      <td>526</td>\n      <td>4.218631</td>\n    </tr>\n    <tr>\n      <th>117</th>\n      <td>Outlander</td>\n      <td>DIANA GABALDON</td>\n      <td>http://images.amazon.com/images/P/0440222915.0...</td>\n      <td>283</td>\n      <td>4.173145</td>\n    </tr>\n    <tr>\n      <th>123</th>\n      <td>Where the Heart Is (Oprah's Book Club (Paperba...</td>\n      <td>Billie Letts</td>\n      <td>http://images.amazon.com/images/P/0446672211.0...</td>\n      <td>585</td>\n      <td>4.105983</td>\n    </tr>\n    <tr>\n      <th>124</th>\n      <td>Seabiscuit: An American Legend</td>\n      <td>LAURA HILLENBRAND</td>\n      <td>http://images.amazon.com/images/P/0449005615.0...</td>\n      <td>275</td>\n      <td>4.098182</td>\n    </tr>\n    <tr>\n      <th>126</th>\n      <td>Life of Pi</td>\n      <td>Yann Martel</td>\n      <td>http://images.amazon.com/images/P/0151008116.0...</td>\n      <td>664</td>\n      <td>4.088855</td>\n    </tr>\n    <tr>\n      <th>130</th>\n      <td>The Bean Trees</td>\n      <td>Barbara Kingsolver</td>\n      <td>http://images.amazon.com/images/P/0060915544.0...</td>\n      <td>389</td>\n      <td>4.087404</td>\n    </tr>\n    <tr>\n      <th>133</th>\n      <td>A Child Called \\It\\\": One Child's Courage to S...</td>\n      <td>Dave Pelzer</td>\n      <td>http://images.amazon.com/images/P/1558743669.0...</td>\n      <td>265</td>\n      <td>4.086792</td>\n    </tr>\n    <tr>\n      <th>135</th>\n      <td>ANGELA'S ASHES</td>\n      <td>Frank McCourt</td>\n      <td>http://images.amazon.com/images/P/0684874350.0...</td>\n      <td>279</td>\n      <td>4.075269</td>\n    </tr>\n    <tr>\n      <th>137</th>\n      <td>Good in Bed</td>\n      <td>Jennifer Weiner</td>\n      <td>http://images.amazon.com/images/P/0743418174.0...</td>\n      <td>490</td>\n      <td>4.055102</td>\n    </tr>\n    <tr>\n      <th>139</th>\n      <td>Fast Food Nation: The Dark Side of the All-Ame...</td>\n      <td>Eric Schlosser</td>\n      <td>http://images.amazon.com/images/P/0060938455.0...</td>\n      <td>321</td>\n      <td>4.037383</td>\n    </tr>\n    <tr>\n      <th>140</th>\n      <td>American Gods</td>\n      <td>Neil Gaiman</td>\n      <td>http://images.amazon.com/images/P/0380789035.0...</td>\n      <td>302</td>\n      <td>4.006623</td>\n    </tr>\n    <tr>\n      <th>141</th>\n      <td>Skipping Christmas</td>\n      <td>JOHN GRISHAM</td>\n      <td>http://images.amazon.com/images/P/0385505833.0...</td>\n      <td>322</td>\n      <td>4.006211</td>\n    </tr>\n    <tr>\n      <th>147</th>\n      <td>Left Behind: A Novel of the Earth's Last Days ...</td>\n      <td>Tim Lahaye</td>\n      <td>http://images.amazon.com/images/P/0842329129.0...</td>\n      <td>318</td>\n      <td>4.003145</td>\n    </tr>\n    <tr>\n      <th>149</th>\n      <td>The Golden Compass (His Dark Materials, Book 1)</td>\n      <td>PHILIP PULLMAN</td>\n      <td>http://images.amazon.com/images/P/037582345X.0...</td>\n      <td>336</td>\n      <td>4.000000</td>\n    </tr>\n    <tr>\n      <th>157</th>\n      <td>The Color Purple</td>\n      <td>Alice Walker</td>\n      <td>http://images.amazon.com/images/P/0671617028.0...</td>\n      <td>314</td>\n      <td>3.964968</td>\n    </tr>\n    <tr>\n      <th>163</th>\n      <td>Silence of the Lambs</td>\n      <td>Thomas Harris</td>\n      <td>http://images.amazon.com/images/P/0312924585.0...</td>\n      <td>256</td>\n      <td>3.960938</td>\n    </tr>\n    <tr>\n      <th>166</th>\n      <td>About a Boy</td>\n      <td>Nick Hornby</td>\n      <td>http://images.amazon.com/images/P/1573227331.0...</td>\n      <td>262</td>\n      <td>3.900763</td>\n    </tr>\n    <tr>\n      <th>173</th>\n      <td>Seven Up (A Stephanie Plum Novel)</td>\n      <td>Janet Evanovich</td>\n      <td>http://images.amazon.com/images/P/0312265840.0...</td>\n      <td>278</td>\n      <td>3.888489</td>\n    </tr>\n    <tr>\n      <th>175</th>\n      <td>The Alchemist: A Fable About Following Your Dream</td>\n      <td>Paulo Coelho</td>\n      <td>http://images.amazon.com/images/P/0062502174.0...</td>\n      <td>266</td>\n      <td>3.875940</td>\n    </tr>\n    <tr>\n      <th>177</th>\n      <td>Hard Eight : A Stephanie Plum Novel (A Stephan...</td>\n      <td>Janet Evanovich</td>\n      <td>http://images.amazon.com/images/P/0312983867.0...</td>\n      <td>269</td>\n      <td>3.825279</td>\n    </tr>\n    <tr>\n      <th>182</th>\n      <td>Suzanne's Diary for Nicholas</td>\n      <td>James Patterson</td>\n      <td>http://images.amazon.com/images/P/0316969443.0...</td>\n      <td>457</td>\n      <td>3.820569</td>\n    </tr>\n    <tr>\n      <th>186</th>\n      <td>Lord of the Flies</td>\n      <td>William Gerald Golding</td>\n      <td>http://images.amazon.com/images/P/0399501487.0...</td>\n      <td>259</td>\n      <td>3.818533</td>\n    </tr>\n    <tr>\n      <th>192</th>\n      <td>A Prayer for Owen Meany</td>\n      <td>John Irving</td>\n      <td>http://images.amazon.com/images/P/0345361792.0...</td>\n      <td>413</td>\n      <td>3.796610</td>\n    </tr>\n    <tr>\n      <th>194</th>\n      <td>The Vampire Lestat (Vampire Chronicles, Book II)</td>\n      <td>ANNE RICE</td>\n      <td>http://images.amazon.com/images/P/0345313860.0...</td>\n      <td>301</td>\n      <td>3.777409</td>\n    </tr>\n    <tr>\n      <th>195</th>\n      <td>White Oleander : A Novel (Oprah's Book Club)</td>\n      <td>Janet Fitch</td>\n      <td>http://images.amazon.com/images/P/0316284955.0...</td>\n      <td>356</td>\n      <td>3.772472</td>\n    </tr>\n  </tbody>\n</table>\n</div>"
     },
     "execution_count": 144,
     "metadata": {},
     "output_type": "execute_result"
    }
   ],
   "source": [
    "popularity_df"
   ]
  },
  {
   "cell_type": "markdown",
   "id": "f7200e05",
   "metadata": {},
   "source": [
    "## Collaborative Feltering Based Recommender System"
   ]
  },
  {
   "cell_type": "code",
   "execution_count": 145,
   "id": "3a817548",
   "metadata": {},
   "outputs": [],
   "source": [
    "x = ratings_with_name.groupby('User-ID').count()['Book-Rating'] > 200\n",
    "padhe_likhe_users = x[x].index"
   ]
  },
  {
   "cell_type": "code",
   "execution_count": 146,
   "id": "fecadc76",
   "metadata": {},
   "outputs": [
    {
     "data": {
      "text/plain": "Int64Index([   254,   2276,   2766,   2977,   3363,   4017,   4385,   6251,\n              6323,   6543,\n            ...\n            271705, 273979, 274004, 274061, 274301, 274308, 275970, 277427,\n            277639, 278418],\n           dtype='int64', name='User-ID', length=811)"
     },
     "execution_count": 146,
     "metadata": {},
     "output_type": "execute_result"
    }
   ],
   "source": [
    "padhe_likhe_users"
   ]
  },
  {
   "cell_type": "code",
   "execution_count": 147,
   "id": "d592edbf",
   "metadata": {},
   "outputs": [],
   "source": [
    "filtered_rating = ratings_with_name[ratings_with_name['User-ID'].isin(padhe_likhe_users)]"
   ]
  },
  {
   "cell_type": "code",
   "execution_count": 148,
   "id": "962e71c2",
   "metadata": {},
   "outputs": [],
   "source": [
    "y = filtered_rating.groupby('Book-Title').count()['Book-Rating'] > 50\n",
    "famous_books = y[y].index"
   ]
  },
  {
   "cell_type": "code",
   "execution_count": 149,
   "id": "2435d113",
   "metadata": {},
   "outputs": [
    {
     "data": {
      "text/plain": "Index(['1984', '1st to Die: A Novel', '2nd Chance', '4 Blondes',\n       'A Bend in the Road', 'A Case of Need',\n       'A Child Called \\It\\\": One Child's Courage to Survive\"',\n       'A Civil Action', 'A Day Late and a Dollar Short', 'A Fine Balance',\n       ...\n       'Winter Solstice', 'Wish You Well', 'Without Remorse',\n       'Wizard and Glass (The Dark Tower, Book 4)', 'Wuthering Heights',\n       'Year of Wonders', 'You Belong To Me',\n       'Zen and the Art of Motorcycle Maintenance: An Inquiry into Values',\n       'Zoya', '\\O\\\" Is for Outlaw\"'],\n      dtype='object', name='Book-Title', length=679)"
     },
     "execution_count": 149,
     "metadata": {},
     "output_type": "execute_result"
    }
   ],
   "source": [
    "famous_books"
   ]
  },
  {
   "cell_type": "code",
   "execution_count": 150,
   "id": "d4bfc418",
   "metadata": {},
   "outputs": [],
   "source": [
    "final_ratings = filtered_rating[filtered_rating['Book-Title'].isin(famous_books)]"
   ]
  },
  {
   "cell_type": "code",
   "execution_count": 151,
   "id": "a1dc7e7a",
   "metadata": {},
   "outputs": [],
   "source": [
    "final_ratings = final_ratings.drop_duplicates()"
   ]
  },
  {
   "cell_type": "code",
   "execution_count": 152,
   "id": "fa2477b9",
   "metadata": {},
   "outputs": [],
   "source": [
    "pt = final_ratings.pivot_table(index='Book-Title', columns='User-ID', values='Book-Rating')"
   ]
  },
  {
   "cell_type": "code",
   "execution_count": 153,
   "id": "764cb1d1",
   "metadata": {},
   "outputs": [],
   "source": [
    "pt.fillna(0, inplace=True)"
   ]
  },
  {
   "cell_type": "code",
   "execution_count": 154,
   "id": "b2689477",
   "metadata": {},
   "outputs": [
    {
     "data": {
      "text/plain": "User-ID                                             254     2276    2766    \\\nBook-Title                                                                   \n1984                                                   9.0     0.0     0.0   \n1st to Die: A Novel                                    0.0     0.0     0.0   \n2nd Chance                                             0.0    10.0     0.0   \n4 Blondes                                              0.0     0.0     0.0   \nA Bend in the Road                                     0.0     0.0     7.0   \n...                                                    ...     ...     ...   \nYear of Wonders                                        0.0     0.0     0.0   \nYou Belong To Me                                       0.0     0.0     0.0   \nZen and the Art of Motorcycle Maintenance: An I...     0.0     0.0     0.0   \nZoya                                                   0.0     0.0     0.0   \n\\O\\\" Is for Outlaw\"                                    0.0     0.0     0.0   \n\nUser-ID                                             2977    3363    4017    \\\nBook-Title                                                                   \n1984                                                   0.0     0.0     0.0   \n1st to Die: A Novel                                    0.0     0.0     0.0   \n2nd Chance                                             0.0     0.0     0.0   \n4 Blondes                                              0.0     0.0     0.0   \nA Bend in the Road                                     0.0     0.0     0.0   \n...                                                    ...     ...     ...   \nYear of Wonders                                        7.0     0.0     0.0   \nYou Belong To Me                                       0.0     0.0     0.0   \nZen and the Art of Motorcycle Maintenance: An I...     0.0     0.0     0.0   \nZoya                                                   0.0     0.0     0.0   \n\\O\\\" Is for Outlaw\"                                    0.0     0.0     0.0   \n\nUser-ID                                             4385    6251    6323    \\\nBook-Title                                                                   \n1984                                                   0.0     0.0     0.0   \n1st to Die: A Novel                                    0.0     0.0     0.0   \n2nd Chance                                             0.0     0.0     0.0   \n4 Blondes                                              0.0     0.0     0.0   \nA Bend in the Road                                     0.0     0.0     0.0   \n...                                                    ...     ...     ...   \nYear of Wonders                                        0.0     0.0     0.0   \nYou Belong To Me                                       0.0     0.0     0.0   \nZen and the Art of Motorcycle Maintenance: An I...     0.0     0.0     0.0   \nZoya                                                   0.0     0.0     0.0   \n\\O\\\" Is for Outlaw\"                                    0.0     0.0     0.0   \n\nUser-ID                                             6543    ...  271705  \\\nBook-Title                                                  ...           \n1984                                                   0.0  ...    10.0   \n1st to Die: A Novel                                    9.0  ...     0.0   \n2nd Chance                                             0.0  ...     0.0   \n4 Blondes                                              0.0  ...     0.0   \nA Bend in the Road                                     0.0  ...     0.0   \n...                                                    ...  ...     ...   \nYear of Wonders                                        0.0  ...     0.0   \nYou Belong To Me                                       0.0  ...     0.0   \nZen and the Art of Motorcycle Maintenance: An I...     0.0  ...     0.0   \nZoya                                                   0.0  ...     0.0   \n\\O\\\" Is for Outlaw\"                                    0.0  ...     0.0   \n\nUser-ID                                             273979  274004  274061  \\\nBook-Title                                                                   \n1984                                                   0.0     0.0     0.0   \n1st to Die: A Novel                                    0.0     0.0     0.0   \n2nd Chance                                             0.0     0.0     0.0   \n4 Blondes                                              0.0     0.0     0.0   \nA Bend in the Road                                     0.0     0.0     0.0   \n...                                                    ...     ...     ...   \nYear of Wonders                                        9.0     0.0     0.0   \nYou Belong To Me                                       0.0     0.0     0.0   \nZen and the Art of Motorcycle Maintenance: An I...     0.0     0.0     0.0   \nZoya                                                   0.0     0.0     0.0   \n\\O\\\" Is for Outlaw\"                                    0.0     0.0     0.0   \n\nUser-ID                                             274301  274308  275970  \\\nBook-Title                                                                   \n1984                                                   0.0     0.0     0.0   \n1st to Die: A Novel                                    0.0     0.0     0.0   \n2nd Chance                                             0.0     0.0     0.0   \n4 Blondes                                              0.0     0.0     0.0   \nA Bend in the Road                                     0.0     0.0     0.0   \n...                                                    ...     ...     ...   \nYear of Wonders                                        0.0     0.0     0.0   \nYou Belong To Me                                       0.0     0.0     0.0   \nZen and the Art of Motorcycle Maintenance: An I...     0.0     0.0     0.0   \nZoya                                                   0.0     0.0     0.0   \n\\O\\\" Is for Outlaw\"                                    8.0     0.0     0.0   \n\nUser-ID                                             277427  277639  278418  \nBook-Title                                                                  \n1984                                                   0.0     0.0     0.0  \n1st to Die: A Novel                                    0.0     0.0     0.0  \n2nd Chance                                             0.0     0.0     0.0  \n4 Blondes                                              0.0     0.0     0.0  \nA Bend in the Road                                     0.0     0.0     0.0  \n...                                                    ...     ...     ...  \nYear of Wonders                                        0.0     0.0     0.0  \nYou Belong To Me                                       0.0     0.0     0.0  \nZen and the Art of Motorcycle Maintenance: An I...     0.0     0.0     0.0  \nZoya                                                   0.0     0.0     0.0  \n\\O\\\" Is for Outlaw\"                                    0.0     0.0     0.0  \n\n[679 rows x 810 columns]",
      "text/html": "<div>\n<style scoped>\n    .dataframe tbody tr th:only-of-type {\n        vertical-align: middle;\n    }\n\n    .dataframe tbody tr th {\n        vertical-align: top;\n    }\n\n    .dataframe thead th {\n        text-align: right;\n    }\n</style>\n<table border=\"1\" class=\"dataframe\">\n  <thead>\n    <tr style=\"text-align: right;\">\n      <th>User-ID</th>\n      <th>254</th>\n      <th>2276</th>\n      <th>2766</th>\n      <th>2977</th>\n      <th>3363</th>\n      <th>4017</th>\n      <th>4385</th>\n      <th>6251</th>\n      <th>6323</th>\n      <th>6543</th>\n      <th>...</th>\n      <th>271705</th>\n      <th>273979</th>\n      <th>274004</th>\n      <th>274061</th>\n      <th>274301</th>\n      <th>274308</th>\n      <th>275970</th>\n      <th>277427</th>\n      <th>277639</th>\n      <th>278418</th>\n    </tr>\n    <tr>\n      <th>Book-Title</th>\n      <th></th>\n      <th></th>\n      <th></th>\n      <th></th>\n      <th></th>\n      <th></th>\n      <th></th>\n      <th></th>\n      <th></th>\n      <th></th>\n      <th></th>\n      <th></th>\n      <th></th>\n      <th></th>\n      <th></th>\n      <th></th>\n      <th></th>\n      <th></th>\n      <th></th>\n      <th></th>\n      <th></th>\n    </tr>\n  </thead>\n  <tbody>\n    <tr>\n      <th>1984</th>\n      <td>9.0</td>\n      <td>0.0</td>\n      <td>0.0</td>\n      <td>0.0</td>\n      <td>0.0</td>\n      <td>0.0</td>\n      <td>0.0</td>\n      <td>0.0</td>\n      <td>0.0</td>\n      <td>0.0</td>\n      <td>...</td>\n      <td>10.0</td>\n      <td>0.0</td>\n      <td>0.0</td>\n      <td>0.0</td>\n      <td>0.0</td>\n      <td>0.0</td>\n      <td>0.0</td>\n      <td>0.0</td>\n      <td>0.0</td>\n      <td>0.0</td>\n    </tr>\n    <tr>\n      <th>1st to Die: A Novel</th>\n      <td>0.0</td>\n      <td>0.0</td>\n      <td>0.0</td>\n      <td>0.0</td>\n      <td>0.0</td>\n      <td>0.0</td>\n      <td>0.0</td>\n      <td>0.0</td>\n      <td>0.0</td>\n      <td>9.0</td>\n      <td>...</td>\n      <td>0.0</td>\n      <td>0.0</td>\n      <td>0.0</td>\n      <td>0.0</td>\n      <td>0.0</td>\n      <td>0.0</td>\n      <td>0.0</td>\n      <td>0.0</td>\n      <td>0.0</td>\n      <td>0.0</td>\n    </tr>\n    <tr>\n      <th>2nd Chance</th>\n      <td>0.0</td>\n      <td>10.0</td>\n      <td>0.0</td>\n      <td>0.0</td>\n      <td>0.0</td>\n      <td>0.0</td>\n      <td>0.0</td>\n      <td>0.0</td>\n      <td>0.0</td>\n      <td>0.0</td>\n      <td>...</td>\n      <td>0.0</td>\n      <td>0.0</td>\n      <td>0.0</td>\n      <td>0.0</td>\n      <td>0.0</td>\n      <td>0.0</td>\n      <td>0.0</td>\n      <td>0.0</td>\n      <td>0.0</td>\n      <td>0.0</td>\n    </tr>\n    <tr>\n      <th>4 Blondes</th>\n      <td>0.0</td>\n      <td>0.0</td>\n      <td>0.0</td>\n      <td>0.0</td>\n      <td>0.0</td>\n      <td>0.0</td>\n      <td>0.0</td>\n      <td>0.0</td>\n      <td>0.0</td>\n      <td>0.0</td>\n      <td>...</td>\n      <td>0.0</td>\n      <td>0.0</td>\n      <td>0.0</td>\n      <td>0.0</td>\n      <td>0.0</td>\n      <td>0.0</td>\n      <td>0.0</td>\n      <td>0.0</td>\n      <td>0.0</td>\n      <td>0.0</td>\n    </tr>\n    <tr>\n      <th>A Bend in the Road</th>\n      <td>0.0</td>\n      <td>0.0</td>\n      <td>7.0</td>\n      <td>0.0</td>\n      <td>0.0</td>\n      <td>0.0</td>\n      <td>0.0</td>\n      <td>0.0</td>\n      <td>0.0</td>\n      <td>0.0</td>\n      <td>...</td>\n      <td>0.0</td>\n      <td>0.0</td>\n      <td>0.0</td>\n      <td>0.0</td>\n      <td>0.0</td>\n      <td>0.0</td>\n      <td>0.0</td>\n      <td>0.0</td>\n      <td>0.0</td>\n      <td>0.0</td>\n    </tr>\n    <tr>\n      <th>...</th>\n      <td>...</td>\n      <td>...</td>\n      <td>...</td>\n      <td>...</td>\n      <td>...</td>\n      <td>...</td>\n      <td>...</td>\n      <td>...</td>\n      <td>...</td>\n      <td>...</td>\n      <td>...</td>\n      <td>...</td>\n      <td>...</td>\n      <td>...</td>\n      <td>...</td>\n      <td>...</td>\n      <td>...</td>\n      <td>...</td>\n      <td>...</td>\n      <td>...</td>\n      <td>...</td>\n    </tr>\n    <tr>\n      <th>Year of Wonders</th>\n      <td>0.0</td>\n      <td>0.0</td>\n      <td>0.0</td>\n      <td>7.0</td>\n      <td>0.0</td>\n      <td>0.0</td>\n      <td>0.0</td>\n      <td>0.0</td>\n      <td>0.0</td>\n      <td>0.0</td>\n      <td>...</td>\n      <td>0.0</td>\n      <td>9.0</td>\n      <td>0.0</td>\n      <td>0.0</td>\n      <td>0.0</td>\n      <td>0.0</td>\n      <td>0.0</td>\n      <td>0.0</td>\n      <td>0.0</td>\n      <td>0.0</td>\n    </tr>\n    <tr>\n      <th>You Belong To Me</th>\n      <td>0.0</td>\n      <td>0.0</td>\n      <td>0.0</td>\n      <td>0.0</td>\n      <td>0.0</td>\n      <td>0.0</td>\n      <td>0.0</td>\n      <td>0.0</td>\n      <td>0.0</td>\n      <td>0.0</td>\n      <td>...</td>\n      <td>0.0</td>\n      <td>0.0</td>\n      <td>0.0</td>\n      <td>0.0</td>\n      <td>0.0</td>\n      <td>0.0</td>\n      <td>0.0</td>\n      <td>0.0</td>\n      <td>0.0</td>\n      <td>0.0</td>\n    </tr>\n    <tr>\n      <th>Zen and the Art of Motorcycle Maintenance: An Inquiry into Values</th>\n      <td>0.0</td>\n      <td>0.0</td>\n      <td>0.0</td>\n      <td>0.0</td>\n      <td>0.0</td>\n      <td>0.0</td>\n      <td>0.0</td>\n      <td>0.0</td>\n      <td>0.0</td>\n      <td>0.0</td>\n      <td>...</td>\n      <td>0.0</td>\n      <td>0.0</td>\n      <td>0.0</td>\n      <td>0.0</td>\n      <td>0.0</td>\n      <td>0.0</td>\n      <td>0.0</td>\n      <td>0.0</td>\n      <td>0.0</td>\n      <td>0.0</td>\n    </tr>\n    <tr>\n      <th>Zoya</th>\n      <td>0.0</td>\n      <td>0.0</td>\n      <td>0.0</td>\n      <td>0.0</td>\n      <td>0.0</td>\n      <td>0.0</td>\n      <td>0.0</td>\n      <td>0.0</td>\n      <td>0.0</td>\n      <td>0.0</td>\n      <td>...</td>\n      <td>0.0</td>\n      <td>0.0</td>\n      <td>0.0</td>\n      <td>0.0</td>\n      <td>0.0</td>\n      <td>0.0</td>\n      <td>0.0</td>\n      <td>0.0</td>\n      <td>0.0</td>\n      <td>0.0</td>\n    </tr>\n    <tr>\n      <th>\\O\\\" Is for Outlaw\"</th>\n      <td>0.0</td>\n      <td>0.0</td>\n      <td>0.0</td>\n      <td>0.0</td>\n      <td>0.0</td>\n      <td>0.0</td>\n      <td>0.0</td>\n      <td>0.0</td>\n      <td>0.0</td>\n      <td>0.0</td>\n      <td>...</td>\n      <td>0.0</td>\n      <td>0.0</td>\n      <td>0.0</td>\n      <td>0.0</td>\n      <td>8.0</td>\n      <td>0.0</td>\n      <td>0.0</td>\n      <td>0.0</td>\n      <td>0.0</td>\n      <td>0.0</td>\n    </tr>\n  </tbody>\n</table>\n<p>679 rows × 810 columns</p>\n</div>"
     },
     "execution_count": 154,
     "metadata": {},
     "output_type": "execute_result"
    }
   ],
   "source": [
    "pt"
   ]
  },
  {
   "cell_type": "code",
   "execution_count": 155,
   "id": "a80732b8",
   "metadata": {},
   "outputs": [],
   "source": [
    "from sklearn.metrics.pairwise import cosine_similarity"
   ]
  },
  {
   "cell_type": "code",
   "execution_count": 156,
   "id": "7e15f632",
   "metadata": {},
   "outputs": [],
   "source": [
    "similarity_scores = cosine_similarity(pt)"
   ]
  },
  {
   "cell_type": "code",
   "execution_count": 157,
   "id": "332b0ca9",
   "metadata": {},
   "outputs": [
    {
     "data": {
      "text/plain": "array([[1.        , 0.10255025, 0.01220856, ..., 0.12110367, 0.07347567,\n        0.04316046],\n       [0.10255025, 1.        , 0.2364573 , ..., 0.07446129, 0.16773875,\n        0.14263397],\n       [0.01220856, 0.2364573 , 1.        , ..., 0.04558758, 0.04938579,\n        0.10796119],\n       ...,\n       [0.12110367, 0.07446129, 0.04558758, ..., 1.        , 0.07085128,\n        0.0196177 ],\n       [0.07347567, 0.16773875, 0.04938579, ..., 0.07085128, 1.        ,\n        0.10602962],\n       [0.04316046, 0.14263397, 0.10796119, ..., 0.0196177 , 0.10602962,\n        1.        ]])"
     },
     "execution_count": 157,
     "metadata": {},
     "output_type": "execute_result"
    }
   ],
   "source": [
    "similarity_scores"
   ]
  },
  {
   "cell_type": "code",
   "execution_count": 158,
   "id": "6bcb742c",
   "metadata": {},
   "outputs": [],
   "source": [
    "def recommend(book_name):\n",
    "    # index fetch\n",
    "    index = np.where(pt.index==book_name)[0][0]\n",
    "    similar_items = sorted(list(enumerate(similarity_scores[index])), key = lambda x:x[1], reverse=True)[1:6]\n",
    "\n",
    "    data = []\n",
    "    for i in similar_items:\n",
    "        item = []\n",
    "        temp_df = books[books['Book-Title'] == pt.index[i[0]]]\n",
    "        item.extend(list(temp_df.drop_duplicates('Book-Title')['Book-Title'].values))\n",
    "        item.extend(list(temp_df.drop_duplicates('Book-Title')['Book-Author'].values))\n",
    "        item.extend(list(temp_df.drop_duplicates('Book-Title')['Image-URL-M'].values))\n",
    "\n",
    "        data.append(item)\n",
    "\n",
    "    return data"
   ]
  },
  {
   "cell_type": "code",
   "execution_count": 159,
   "id": "bc4c8107",
   "metadata": {},
   "outputs": [
    {
     "data": {
      "text/plain": "[['Animal Farm',\n  'George Orwell',\n  'http://images.amazon.com/images/P/0451526341.01.MZZZZZZZ.jpg'],\n [\"The Handmaid's Tale\",\n  'Margaret Atwood',\n  'http://images.amazon.com/images/P/0449212602.01.MZZZZZZZ.jpg'],\n ['Brave New World',\n  'Aldous Huxley',\n  'http://images.amazon.com/images/P/0060809833.01.MZZZZZZZ.jpg'],\n ['The Vampire Lestat (Vampire Chronicles, Book II)',\n  'ANNE RICE',\n  'http://images.amazon.com/images/P/0345313860.01.MZZZZZZZ.jpg'],\n ['The Hours : A Novel',\n  'Michael Cunningham',\n  'http://images.amazon.com/images/P/0312243022.01.MZZZZZZZ.jpg']]"
     },
     "execution_count": 159,
     "metadata": {},
     "output_type": "execute_result"
    }
   ],
   "source": [
    "recommend('1984')"
   ]
  },
  {
   "cell_type": "code",
   "execution_count": 160,
   "id": "41a995cd",
   "metadata": {},
   "outputs": [
    {
     "data": {
      "text/plain": "[['Nights in Rodanthe',\n  'Nicholas Sparks',\n  'http://images.amazon.com/images/P/0446531332.01.MZZZZZZZ.jpg'],\n ['The Mulberry Tree',\n  'Jude Deveraux',\n  'http://images.amazon.com/images/P/0743437640.01.MZZZZZZZ.jpg'],\n ['A Walk to Remember',\n  'Nicholas Sparks',\n  'http://images.amazon.com/images/P/0446608955.01.MZZZZZZZ.jpg'],\n [\"River's End\",\n  'Nora Roberts',\n  'http://images.amazon.com/images/P/0515127833.01.MZZZZZZZ.jpg'],\n ['Nightmares &amp; Dreamscapes',\n  'Stephen King',\n  'http://images.amazon.com/images/P/0451180232.01.MZZZZZZZ.jpg']]"
     },
     "execution_count": 160,
     "metadata": {},
     "output_type": "execute_result"
    }
   ],
   "source": [
    "recommend('Message in a Bottle')"
   ]
  },
  {
   "cell_type": "code",
   "execution_count": 161,
   "id": "9a7fbec7",
   "metadata": {},
   "outputs": [
    {
     "data": {
      "text/plain": "[['Angels &amp; Demons',\n  'Dan Brown',\n  'http://images.amazon.com/images/P/0671027360.01.MZZZZZZZ.jpg'],\n ['Touching Evil',\n  'Kay Hooper',\n  'http://images.amazon.com/images/P/0553583441.01.MZZZZZZZ.jpg'],\n ['Saving Faith',\n  'David Baldacci',\n  'http://images.amazon.com/images/P/0446608890.01.MZZZZZZZ.jpg'],\n [\"The Sweet Potato Queens' Book of Love\",\n  'JILL CONNER BROWNE',\n  'http://images.amazon.com/images/P/0609804138.01.MZZZZZZZ.jpg'],\n ['Middlesex: A Novel',\n  'Jeffrey Eugenides',\n  'http://images.amazon.com/images/P/0312422156.01.MZZZZZZZ.jpg']]"
     },
     "execution_count": 161,
     "metadata": {},
     "output_type": "execute_result"
    }
   ],
   "source": [
    "recommend('The Da Vinci Code')"
   ]
  },
  {
   "cell_type": "code",
   "execution_count": 162,
   "id": "0f8d76b8",
   "metadata": {},
   "outputs": [
    {
     "data": {
      "text/plain": "[['Harry Potter and the Goblet of Fire (Book 4)',\n  'J. K. Rowling',\n  'http://images.amazon.com/images/P/0439139597.01.MZZZZZZZ.jpg'],\n ['Harry Potter and the Chamber of Secrets (Book 2)',\n  'J. K. Rowling',\n  'http://images.amazon.com/images/P/0439064872.01.MZZZZZZZ.jpg'],\n ['Harry Potter and the Order of the Phoenix (Book 5)',\n  'J. K. Rowling',\n  'http://images.amazon.com/images/P/043935806X.01.MZZZZZZZ.jpg'],\n [\"Harry Potter and the Sorcerer's Stone (Book 1)\",\n  'J. K. Rowling',\n  'http://images.amazon.com/images/P/0590353403.01.MZZZZZZZ.jpg'],\n [\"Harry Potter and the Sorcerer's Stone (Harry Potter (Paperback))\",\n  'J. K. Rowling',\n  'http://images.amazon.com/images/P/059035342X.01.MZZZZZZZ.jpg']]"
     },
     "execution_count": 162,
     "metadata": {},
     "output_type": "execute_result"
    }
   ],
   "source": [
    "recommend('Harry Potter and the Prisoner of Azkaban (Book 3)')"
   ]
  },
  {
   "cell_type": "code",
   "execution_count": 163,
   "outputs": [],
   "source": [
    "import pickle\n",
    "pickle.dump(popularity_df, open(\"./model/popular.pkl\", \"wb\"))\n",
    "pickle.dump(pt, open(\"./model/pt.pkl\", \"wb\"))\n",
    "pickle.dump(books, open(\"./model/books.pkl\", \"wb\"))\n",
    "pickle.dump(similarity_scores, open(\"./model/similarity_scores.pkl\", \"wb\"))"
   ],
   "metadata": {
    "collapsed": false
   }
  }
 ],
 "metadata": {
  "kernelspec": {
   "display_name": "Python 3 (ipykernel)",
   "language": "python",
   "name": "python3"
  },
  "language_info": {
   "codemirror_mode": {
    "name": "ipython",
    "version": 3
   },
   "file_extension": ".py",
   "mimetype": "text/x-python",
   "name": "python",
   "nbconvert_exporter": "python",
   "pygments_lexer": "ipython3",
   "version": "3.10.8"
  }
 },
 "nbformat": 4,
 "nbformat_minor": 5
}
